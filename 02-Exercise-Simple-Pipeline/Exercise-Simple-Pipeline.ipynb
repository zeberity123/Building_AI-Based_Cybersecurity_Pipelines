{
 "cells": [
  {
   "cell_type": "markdown",
   "id": "c6cb0f43-4901-46d8-97b7-1b90fe721ca9",
   "metadata": {
    "tags": []
   },
   "source": [
    "# Exercise: Build a Simple Pipeline"
   ]
  },
  {
   "cell_type": "markdown",
   "id": "84178168-920a-4b95-ad48-672339deb868",
   "metadata": {},
   "source": [
    "Using what you learned in the previous exercise, build a simple FIL pipeline that writes to `output.jsonlines` only the `nvidia_smi_log.gpu.utilization.gpu_util` and `nvidia_smi_log.gpu.utilization.memory_util` fields from `nvsmi.jsonlines` without modification.\n",
    "\n",
    "Although the previous section would allow you to copy/paste most of the solution quite quickly, we recommend you try to perform this exercise without referring back to it, using instead the `--help` flag as needed."
   ]
  },
  {
   "cell_type": "markdown",
   "id": "89a07636-8188-4040-b1b3-4bb06f7b42ef",
   "metadata": {},
   "source": [
    "---"
   ]
  },
  {
   "cell_type": "markdown",
   "id": "ff3bfa1f-8a21-4274-a91a-d9af2b0dc1fd",
   "metadata": {},
   "source": [
    "## Your Work Here"
   ]
  },
  {
   "cell_type": "code",
   "execution_count": 2,
   "id": "11a5619c-cb72-4f29-b5d6-8eae2d9fc9d5",
   "metadata": {},
   "outputs": [
    {
     "name": "stdout",
     "output_type": "stream",
     "text": [
      "\u001b[32mConfiguring Pipeline via CLI\u001b[0m\n",
      "\u001b[31mStarting pipeline via CLI... Ctrl+C to Quit\u001b[0m\n"
     ]
    }
   ],
   "source": [
    "!morpheus run pipeline-fil \\\n",
    "  from-file --filename nvsmi.jsonlines \\\n",
    "  deserialize \\\n",
    "  serialize --include 'nvidia_smi_log.gpu.utilization.gpu_util' --include 'nvidia_smi_log.gpu.utilization.memory_util' \\\n",
    "  to-file --filename output.jsonlines --overwrite"
   ]
  },
  {
   "cell_type": "markdown",
   "id": "7f137110-0c5e-42fa-bcd5-1072e6939846",
   "metadata": {},
   "source": [
    "---"
   ]
  },
  {
   "cell_type": "markdown",
   "id": "1610513c-ee06-4d25-9b47-78267c66da9c",
   "metadata": {},
   "source": [
    "## Check Your Work"
   ]
  },
  {
   "cell_type": "markdown",
   "id": "4329bcdc-b233-496b-812e-68596912d652",
   "metadata": {},
   "source": [
    "To check your work, run the following cell. It will run the shell command `diff` against an existing solution output (`solution.jsonlines`) and your output (`output.jsonlines`). If the files are identical there will be no output and you will know your work is correct."
   ]
  },
  {
   "cell_type": "code",
   "execution_count": 3,
   "id": "27cb10a0-756a-4316-ab31-67fb59526312",
   "metadata": {},
   "outputs": [],
   "source": [
    "!diff output.jsonlines solution.jsonlines"
   ]
  },
  {
   "cell_type": "markdown",
   "id": "cbc85376-b5c1-4e74-b2cd-6c3011791f72",
   "metadata": {},
   "source": [
    "---"
   ]
  },
  {
   "cell_type": "markdown",
   "id": "bdac95ef-681c-4ed4-8d90-a6904a615efa",
   "metadata": {},
   "source": [
    "## Solution"
   ]
  },
  {
   "cell_type": "markdown",
   "id": "948ee48b-c503-401c-b829-69041502fad9",
   "metadata": {},
   "source": [
    "If you get stuck, click on the `...` directly below to expand the solution pipeline."
   ]
  },
  {
   "cell_type": "markdown",
   "id": "673d3002-ba25-4224-b5cd-558547b284ac",
   "metadata": {
    "tags": []
   },
   "source": [
    "```sh\n",
    "morpheus run pipeline-fil \\\n",
    "  from-file --filename nvsmi.jsonlines \\\n",
    "  deserialize \\\n",
    "  serialize --include 'nvidia_smi_log.gpu.utilization.gpu_util' --include 'nvidia_smi_log.gpu.utilization.memory_util' \\\n",
    "  to-file --filename output.jsonlines --overwrite\n",
    "```"
   ]
  },
  {
   "cell_type": "markdown",
   "id": "210a7954-4836-4736-9a5f-1b21f4efcaa3",
   "metadata": {},
   "source": [
    "---"
   ]
  },
  {
   "cell_type": "markdown",
   "id": "1ff6c063-7d8c-4914-92f0-a39e3a9f5d3e",
   "metadata": {},
   "source": [
    "## Next"
   ]
  },
  {
   "cell_type": "markdown",
   "id": "57bdfcd8-989c-477b-b2ff-41f4a17e41d4",
   "metadata": {},
   "source": [
    "In the next section you will begin learning how to include inference into Morpheus pipelines.\n",
    "\n",
    "Please continue to the next notebook."
   ]
  }
 ],
 "metadata": {
  "kernelspec": {
   "display_name": "Python 3 (ipykernel)",
   "language": "python",
   "name": "python3"
  },
  "language_info": {
   "codemirror_mode": {
    "name": "ipython",
    "version": 3
   },
   "file_extension": ".py",
   "mimetype": "text/x-python",
   "name": "python",
   "nbconvert_exporter": "python",
   "pygments_lexer": "ipython3",
   "version": "3.8.13"
  }
 },
 "nbformat": 4,
 "nbformat_minor": 5
}
