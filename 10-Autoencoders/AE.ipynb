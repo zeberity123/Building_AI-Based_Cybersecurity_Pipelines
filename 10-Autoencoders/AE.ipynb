{
 "cells": [
  {
   "cell_type": "markdown",
   "id": "6e85713c-31aa-4e43-950a-d732549d2b0a",
   "metadata": {},
   "source": [
    "![DLI Header](../images/DLI_Header.png)"
   ]
  },
  {
   "cell_type": "markdown",
   "id": "79a64b32-6af1-4859-82ae-a9d7e5e117e9",
   "metadata": {},
   "source": [
    "# Introduction to Autoencoders"
   ]
  },
  {
   "cell_type": "markdown",
   "id": "fa6b2eb5-3e8f-4d96-8fc5-6bff998c30cc",
   "metadata": {},
   "source": [
    "In this notebook we are going to give a high-level introduction autoencoders, a kind of deep neural network that Morpheus can use to create unique \"digital fingerprints\" for users and services. In subsequent notebooks you will be leveraging autoencoders in Morpheus pipelines."
   ]
  },
  {
   "cell_type": "markdown",
   "id": "0c92b8b0-6f50-42c2-931b-446dfc3f7a2a",
   "metadata": {},
   "source": [
    "## Objectives"
   ]
  },
  {
   "cell_type": "markdown",
   "id": "cdbd919d-246c-4094-ac7e-baf60c8496f5",
   "metadata": {},
   "source": [
    "By the time you complete this notebook you will:\n",
    "\n",
    "- Have a high-level understanding of autoencoders.\n",
    "- Understand how autoencoders can be used in a cybersecurity setting to identify anomalous user or service behavior."
   ]
  },
  {
   "cell_type": "markdown",
   "id": "8c83de40-85b6-422b-b45d-998a79389ccd",
   "metadata": {},
   "source": [
    "---"
   ]
  },
  {
   "cell_type": "markdown",
   "id": "5425e40f-819c-4cf7-911e-52962e3c017e",
   "metadata": {},
   "source": [
    "## Autoencoders"
   ]
  },
  {
   "cell_type": "markdown",
   "id": "5aeb448c-2021-4cf5-af40-067464d39273",
   "metadata": {},
   "source": [
    "**Autoencoders** are a subset of neural network architectures where the output dimension is the same as the input dimension. Autoencoders have two networks, an **encoder** and a **decoder**.  The encoder encodes its input data into a smaller dimensional space, called the **latent space**. The decoder network tries to **reconstruct** the original data from the latent encoding.\n",
    "\n",
    "Typically, the encoder and decoder are symmetric, and the latent space is a bottleneck. The autoencoder has to learn essential characteristics of the data to be able to do a high-quality reconstruction of the data during decode."
   ]
  },
  {
   "cell_type": "markdown",
   "id": "5e60ced1-3066-4f60-9930-d460b6e9d2b6",
   "metadata": {},
   "source": [
    "![autoencoder network](images/ae.png)"
   ]
  },
  {
   "cell_type": "markdown",
   "id": "33dcc67e-ddd5-4bcf-84a7-51e485a27c66",
   "metadata": {},
   "source": [
    "## Evaluating Autoencoder Performance"
   ]
  },
  {
   "cell_type": "markdown",
   "id": "cde2f833-b73c-453a-84e0-99a5874c6dff",
   "metadata": {},
   "source": [
    "Because the goal of an autoencoder is to reconstruct its input data, we can evaluate how well an autoencoder is performing by comparing its input to its output. The greater the difference between the input and the output, the worse it performed.\n",
    "\n",
    "As visual examples here, we will use the squares divided into 4 quarters, each with their own color. The autoencoder should try to reconstruct the input square to match exactly the output square.\n",
    "\n",
    "As an example, we might consider the following a \"perfect\" reconstruction:"
   ]
  },
  {
   "cell_type": "markdown",
   "id": "47cd5d96-1e4a-4775-aaff-31a4e7202504",
   "metadata": {},
   "source": [
    "![perfect](images/perfect.png)"
   ]
  },
  {
   "cell_type": "markdown",
   "id": "04fc8d00-98bd-4de0-9eec-0f89af9080c5",
   "metadata": {},
   "source": [
    "The following a \"decent\" reconstruction:"
   ]
  },
  {
   "cell_type": "markdown",
   "id": "982bef62-6092-4f8a-954f-9e0460aee418",
   "metadata": {},
   "source": [
    "![decent](images/decent.png)"
   ]
  },
  {
   "cell_type": "markdown",
   "id": "2dfc3f16-0f5a-4309-bb48-a54c160f08e9",
   "metadata": {},
   "source": [
    "And the following a \"terrible\" reconstruction:"
   ]
  },
  {
   "cell_type": "markdown",
   "id": "734b0c4e-882d-4da1-851c-c273c4ec4d46",
   "metadata": {},
   "source": [
    "![terrible](images/terrible.png)"
   ]
  },
  {
   "cell_type": "markdown",
   "id": "2c361770-d1ed-4fc7-9a65-22db418b15fc",
   "metadata": {},
   "source": [
    "## Expected Autoencoder Performance"
   ]
  },
  {
   "cell_type": "markdown",
   "id": "5ff226e6-7b95-487e-8bd4-defac4c052a8",
   "metadata": {},
   "source": [
    "We should expect that an autoencoder can provide a consistent quality of reconstruction on the kinds of inputs that it was trained on. For our example, let's assume that we have trained an autoencoder to reconstruct the same kinds of square images as above, training it on squares that contain only shades of green.\n",
    "\n",
    "Here we show that when the trained autoencoder is given several never-before-seen squares with shades of green, that is consistently does a \"decent\" reconstruction:"
   ]
  },
  {
   "cell_type": "markdown",
   "id": "fc20f445-8c8b-4132-8844-079b99648ec1",
   "metadata": {},
   "source": [
    "![consistent decent](images/consistent_decent.png)"
   ]
  },
  {
   "cell_type": "markdown",
   "id": "7bde8e13-fcad-420d-9edf-e7e7dc1191e8",
   "metadata": {},
   "source": [
    "However, if we were to provide the autoencoder, which was trained on squares with only shades of green, squares containing other colors, that is does not consistently perform at a \"decent\" level: "
   ]
  },
  {
   "cell_type": "markdown",
   "id": "09776af8-21b3-43fe-806b-d2b8b631f86c",
   "metadata": {},
   "source": [
    "![consistent terrible](images/consistent_terrible.png)"
   ]
  },
  {
   "cell_type": "markdown",
   "id": "8c5c4be8-3e01-401f-bf8e-f59ccd272e46",
   "metadata": {},
   "source": [
    "---"
   ]
  },
  {
   "cell_type": "markdown",
   "id": "25d1557e-109e-4db9-a181-386d0f8aa796",
   "metadata": {},
   "source": [
    "## Key Takeaways"
   ]
  },
  {
   "cell_type": "markdown",
   "id": "8c219576-8e1e-43c1-827a-9bac5058a9c0",
   "metadata": {},
   "source": [
    "1. We can expect that an autoencoder will perform consistently well reconstructing the same kind of data it was trained on.\n",
    "2. Knowing an autoencoder's consistent performance on the kind of data it was trained on, we can assume that if it performs significantly different, that it was given data significantly different than the kind it was trained on.\n",
    "\n",
    "In our visual example, we trained an autoencoder on squares containing shades of green. After training it consistently did a \"decent\" job reconstructing new squares containing shades of green. When given squares that did not contain shades of green, the autoencoder no longer did a consistently \"decent\" job reconstructing them."
   ]
  },
  {
   "cell_type": "markdown",
   "id": "b3347f9c-94d5-4cac-a233-e2a4947d3b38",
   "metadata": {},
   "source": [
    "---"
   ]
  },
  {
   "cell_type": "markdown",
   "id": "f4945a65-04e9-44f3-b647-684e39254c91",
   "metadata": {},
   "source": [
    "## Relevance to Cybersecurity"
   ]
  },
  {
   "cell_type": "markdown",
   "id": "d6e83749-33f9-4a77-ac7b-6fa4e9fa5a06",
   "metadata": {},
   "source": [
    "In the context of cybersecurity we will use autoencoders to discover when a user or service has been taken over by a malicious agent.\n",
    "\n",
    "We will train autoencoders on typical, non-malicious user and service data, observing their typical reconstruction performance.\n",
    "\n",
    "We will then pass new user data into the trained autoencoders, and when we see their reconstruction performance deviating significantly from our pre-established norm, we will consider that this new data is atypical, or anomalous, and may represent that the user or service is being controlled by a malicious agent."
   ]
  },
  {
   "cell_type": "markdown",
   "id": "de714e6b-1b8c-4c8c-bd09-aff31bd8c4fe",
   "metadata": {},
   "source": [
    "---"
   ]
  },
  {
   "cell_type": "markdown",
   "id": "81ee2696-8bb9-4c6d-9cda-8ac6aa403002",
   "metadata": {},
   "source": [
    "## Next"
   ]
  },
  {
   "cell_type": "markdown",
   "id": "3f8b5445-fc60-4214-b35c-466ebfd6867a",
   "metadata": {},
   "source": [
    "In the next section you will begin to build Morpheus pipelines that utilize autoencoders for identifying compromised user or service activity.\n",
    "\n",
    "Please continue to the next notebook."
   ]
  }
 ],
 "metadata": {
  "kernelspec": {
   "display_name": "Python 3 (ipykernel)",
   "language": "python",
   "name": "python3"
  },
  "language_info": {
   "codemirror_mode": {
    "name": "ipython",
    "version": 3
   },
   "file_extension": ".py",
   "mimetype": "text/x-python",
   "name": "python",
   "nbconvert_exporter": "python",
   "pygments_lexer": "ipython3",
   "version": "3.8.13"
  }
 },
 "nbformat": 4,
 "nbformat_minor": 5
}
