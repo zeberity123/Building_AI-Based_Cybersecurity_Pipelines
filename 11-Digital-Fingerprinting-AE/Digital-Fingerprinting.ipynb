{
 "cells": [
  {
   "cell_type": "markdown",
   "id": "6e85713c-31aa-4e43-950a-d732549d2b0a",
   "metadata": {},
   "source": [
    "![DLI Header](../images/DLI_Header.png)"
   ]
  },
  {
   "cell_type": "markdown",
   "id": "79a64b32-6af1-4859-82ae-a9d7e5e117e9",
   "metadata": {},
   "source": [
    "# Digital Fingerprinting"
   ]
  },
  {
   "cell_type": "markdown",
   "id": "fa6b2eb5-3e8f-4d96-8fc5-6bff998c30cc",
   "metadata": {},
   "source": [
    "In this notebook we are going to introduce the autoencoder (AE) pipeline and use it to perform \"digital fingerprinting,\" a process by which we use deep learning to obtain a unique digital signature of a user or service's typical activities which can then be leveraged to identify when that user or service may have been hacked."
   ]
  },
  {
   "cell_type": "markdown",
   "id": "0c92b8b0-6f50-42c2-931b-446dfc3f7a2a",
   "metadata": {},
   "source": [
    "## Objectives"
   ]
  },
  {
   "cell_type": "markdown",
   "id": "cdbd919d-246c-4094-ac7e-baf60c8496f5",
   "metadata": {},
   "source": [
    "By the time you complete this notebook you will:\n",
    "\n",
    "- Understand how autoencoders can be used to create digital fingerprints representing typical user/service behavior.\n",
    "- Know how to construct an autoencoder pipeline with Morpheus to create and utilize a digital fingerprint.\n",
    "- Be able to analyze autoencoder pipeline results to determine if a user account has been compromised."
   ]
  },
  {
   "cell_type": "markdown",
   "id": "8c83de40-85b6-422b-b45d-998a79389ccd",
   "metadata": {},
   "source": [
    "---"
   ]
  },
  {
   "cell_type": "markdown",
   "id": "29e190b5-c1db-4766-85f8-853785739eb4",
   "metadata": {},
   "source": [
    "## The Problem"
   ]
  },
  {
   "cell_type": "markdown",
   "id": "e0f115ff-2264-4667-9999-022d64a92240",
   "metadata": {},
   "source": [
    "A breached credential for any given app can give an attacker a huge world of permissions that will not be obvious or static over time. In 2021, compromised credentials were at the root of 61% of attacks.\n",
    "\n",
    "Traditional approaches to finding and stopping threats have ceased to be appropriately effective. One reason is the scope of ways an attacker can enter a system and do damage have proliferated as the interconnections between apps and systems have proliferated.\n",
    "\n",
    "Applying AI to the problem seems like a natural choice but this in some sense broadens the data problem. A typical user may interact with 100 or more apps while doing their job, and integrations between apps means that there may be tens of thousands of interconnections and permissions shared across those 100 apps. If you have 10,000 users, you’d need 10,000 models as a beginning.\n",
    "\n",
    "The good news is that NVIDIA Morpheus addresses this problem.\n",
    "\n",
    "While most apps and systems will create logs, the variety, volume, and velocity of these logs means that much of the response possible is “closing the barn door after the horse has left.” Identifying credential breaches and the damage done can take weeks if you’re lucky, months if you’re average.\n",
    "\n",
    "With any number of users beyond “modest” or “very modest,” traditional rule-based systems to create warnings are insufficient. A person who knew how another person or system typically behaves could notice something fishy almost immediately when that user or system started doing something that was unusual."
   ]
  },
  {
   "cell_type": "markdown",
   "id": "af1214fc-0731-4ee6-bee7-a97177b0c751",
   "metadata": {},
   "source": [
    "---"
   ]
  },
  {
   "cell_type": "markdown",
   "id": "c21ea8e5-10e1-47f1-9e9e-6dc7de3b0844",
   "metadata": {},
   "source": [
    "## A Solution"
   ]
  },
  {
   "cell_type": "markdown",
   "id": "1715ad3b-1cea-4f44-99e9-ea930e857fae",
   "metadata": {},
   "source": [
    "Every user or service in a system has a digital fingerprint: a typical set of things it does or doesn’t do in a specific sequence in time. Using Morpheus we can create a \"digital fingerprint\" for every user and service. Once we have obtained this digital fingerprint, we can compare all incoming data against this fingerprint, flagging data that represents interactions that are not behaving as expected.\n",
    "\n",
    "To create these digital fingerprints we are going to use a deep learning neural network called an autoencoder, which we discussed in the previous notebook."
   ]
  },
  {
   "cell_type": "markdown",
   "id": "6905f7a5-c70e-499b-b4f0-189fc7cc37ee",
   "metadata": {},
   "source": [
    "---"
   ]
  },
  {
   "cell_type": "markdown",
   "id": "5425e40f-819c-4cf7-911e-52962e3c017e",
   "metadata": {},
   "source": [
    "## Digital Fingerprinting with Autoencoders"
   ]
  },
  {
   "cell_type": "markdown",
   "id": "d1a01cf6-a939-4161-ab65-e0f0bf90a792",
   "metadata": {},
   "source": [
    "In the context of digital fingerprinting we can, for a given user, train an autoencoder on logs during the user's typical activities. During the process of training, the autoencoder learns what is essential about the user's behaviors, and not just noise, and is able to first encode the user's activity into a reduced format, and from the reduced format, reconstruct the original activity with very little error.\n",
    "\n",
    "Once the autoencoder has been trained in this way on a user's typical behavior, it ought to be able to use what it has learned to first encode and then decode novel behavior from this user in a similar way and end up with an accurate reconstruction of the data that was given to it.\n",
    "\n",
    "If, however, the user begins to behave in a way that is very much unlike that user's usual behavior, then when the autoencoder uses what it has learned about that user to perform autoencoding, it will do a poor job at reconstructing the data it was given. In this case we might suspect that the user has been compromised and is being driven by some malicious agent."
   ]
  },
  {
   "cell_type": "markdown",
   "id": "de714e6b-1b8c-4c8c-bd09-aff31bd8c4fe",
   "metadata": {},
   "source": [
    "---"
   ]
  },
  {
   "cell_type": "markdown",
   "id": "df8e6eab-f77e-4dcd-b5f5-9070551a2789",
   "metadata": {},
   "source": [
    "## The Autoencoder Pipeline"
   ]
  },
  {
   "cell_type": "markdown",
   "id": "d0b84265-45c9-4094-b97d-e5e1f0160cfb",
   "metadata": {},
   "source": [
    "One of the essential differences of `pipeline-ae` is that in addition to performing inference on source data, we can also perform model training as a part of the pipeline. It is in this way that we leverage the power of autoencoders to create a digital fingerprint for any number of users or services."
   ]
  },
  {
   "cell_type": "markdown",
   "id": "e1926e56-65f0-49f1-9fb3-8ab5eb52b8c4",
   "metadata": {
    "tags": []
   },
   "source": [
    "### Fields for Model Training"
   ]
  },
  {
   "cell_type": "markdown",
   "id": "868abc22-450b-4db9-885d-ae87fbabc60a",
   "metadata": {},
   "source": [
    "When running the pipeline we specify a `--columns-file` to indicate which fields in incoming data should be used for model training."
   ]
  },
  {
   "cell_type": "code",
   "execution_count": 1,
   "id": "518b4798-0394-48e1-b0ef-b208d1c67d80",
   "metadata": {},
   "outputs": [
    {
     "name": "stdout",
     "output_type": "stream",
     "text": [
      "  --columns_file FILE        [default: data/columns_ae.txt]\n"
     ]
    }
   ],
   "source": [
    "!morpheus run pipeline-ae --help | grep 'columns_file'"
   ]
  },
  {
   "cell_type": "markdown",
   "id": "6f44e863-d992-49b0-8d4d-9ec5fcd7c768",
   "metadata": {},
   "source": [
    "We've provided a columns file for you:"
   ]
  },
  {
   "cell_type": "code",
   "execution_count": 2,
   "id": "5aedba76-3f9d-43af-92dd-638ada5cb384",
   "metadata": {},
   "outputs": [
    {
     "name": "stdout",
     "output_type": "stream",
     "text": [
      "apiVersion\n",
      "errorCode\n",
      "errorMessage\n",
      "eventName\n",
      "eventSource\n",
      "sourceIPAddress\n",
      "tlsDetailsclientProvidedHostHeader\n",
      "userAgent\n",
      "userIdentityaccessKeyId\n",
      "userIdentityaccountId\n",
      "userIdentityarn\n",
      "userIdentityprincipalId\n",
      "userIdentitysessionContextsessionIssueruserName\n"
     ]
    }
   ],
   "source": [
    "!cat data/columns_ae.txt"
   ]
  },
  {
   "cell_type": "markdown",
   "id": "b280a48e-d82f-49bd-b3d2-89958247493e",
   "metadata": {},
   "source": [
    "### User ID Location"
   ]
  },
  {
   "cell_type": "markdown",
   "id": "7c7fd345-01b7-4283-8ee5-b4dba3fb455a",
   "metadata": {},
   "source": [
    "Morpheus will look for every unique entry in the source data in the specified `--userid_column_name` column and will train a model for each of these entries."
   ]
  },
  {
   "cell_type": "code",
   "execution_count": 3,
   "id": "4cff0186-11c7-425a-b876-6d53484abafb",
   "metadata": {},
   "outputs": [
    {
     "name": "stdout",
     "output_type": "stream",
     "text": [
      "  --userid_column_name TEXT  Which column to use as the User ID.  [default:\n",
      "                             userIdentityaccountId; required]\n"
     ]
    }
   ],
   "source": [
    "!morpheus run pipeline-ae --help | grep 'userid_column_name TEXT' -A 1"
   ]
  },
  {
   "cell_type": "markdown",
   "id": "b1286813-9da5-424b-ac3b-3565fc4d3d75",
   "metadata": {},
   "source": [
    "### Training for Only a Single User"
   ]
  },
  {
   "cell_type": "markdown",
   "id": "20926386-f2df-4d5d-972d-3998c26674b2",
   "metadata": {},
   "source": [
    "Optionally, you can set `--userid_filter` to only train for a specific user/service. We will use this option presently, and will look later in the course at removing it to run the pipeline against multiple users."
   ]
  },
  {
   "cell_type": "code",
   "execution_count": 4,
   "id": "6959c61e-d14e-4bf4-8973-dd75a3afdca8",
   "metadata": {},
   "outputs": [
    {
     "name": "stdout",
     "output_type": "stream",
     "text": [
      "  --userid_filter TEXT       Specifying this value will filter all incoming\n",
      "                             data to only use rows with matching User IDs.\n",
      "                             Which column is used for the User ID is specified\n",
      "                             by `userid_column_name`\n"
     ]
    }
   ],
   "source": [
    "!morpheus run pipeline-ae --help | grep 'userid_filter TEXT' -A 3"
   ]
  },
  {
   "cell_type": "markdown",
   "id": "8f769759-336a-4b4c-b53a-208d3e8209b1",
   "metadata": {},
   "source": [
    "---"
   ]
  },
  {
   "cell_type": "markdown",
   "id": "e420013e-70f1-4146-b2a9-77da075ad48b",
   "metadata": {},
   "source": [
    "## Autoencoder Training Configuration"
   ]
  },
  {
   "cell_type": "markdown",
   "id": "ab7dd91c-6351-4f18-8661-aa8a353a757c",
   "metadata": {},
   "source": [
    "In `pipeline-ae` we perform autoencoder model training (aka digital fingerprinting) with the `train-ae` stage.\n",
    "\n",
    "By setting `--train_data_glob` you can provide free-from-attack data for training the autoencoder models."
   ]
  },
  {
   "cell_type": "code",
   "execution_count": 5,
   "id": "7183b68d-20e0-427d-884e-88fddef5657c",
   "metadata": {},
   "outputs": [
    {
     "name": "stdout",
     "output_type": "stream",
     "text": [
      "  --train_data_glob TEXT          On startup, all files matching this glob\n",
      "                                  pattern will be loaded and used to train a\n",
      "                                  model for each unique user ID.\n"
     ]
    }
   ],
   "source": [
    "!morpheus run pipeline-ae train-ae --help | grep 'train_data_glob TEXT' -A 2"
   ]
  },
  {
   "cell_type": "markdown",
   "id": "07c37530-0d27-4d77-8c66-5e8b9eac2eb3",
   "metadata": {},
   "source": [
    "If you wish, you could instead provide your own pre-trained model with `--pretrained_filename`, which would be used against every user."
   ]
  },
  {
   "cell_type": "code",
   "execution_count": 6,
   "id": "a4778c74-e35f-4d66-8608-15a008bc3679",
   "metadata": {},
   "outputs": [
    {
     "name": "stdout",
     "output_type": "stream",
     "text": [
      "  --pretrained_filename FILE      Loads a single pre-trained model for all\n",
      "                                  users.\n"
     ]
    }
   ],
   "source": [
    "!morpheus run pipeline-ae train-ae --help | grep 'pretrained_filename' -A 1"
   ]
  },
  {
   "cell_type": "markdown",
   "id": "e3f82314-1bde-4eff-934c-8257b5569484",
   "metadata": {},
   "source": [
    "If you do not provide a `train_data_glob` or a `pretrained_filename` then Morpheus will train for users found in the incoming data stream, either all users, or if `--userid_filter` is set, just the filtered user.\n",
    "\n",
    "In this scenario, when a pre-trained model or training glob is not provided, Morpheus will train a new model for each user whenever new data for that user comes through the stream. Using `--train_max_history` you can configure how much prior data will be kept around to be a part of subsequent model trainings."
   ]
  },
  {
   "cell_type": "code",
   "execution_count": 7,
   "id": "1a915b8e-27d6-475a-bbb8-81478e634861",
   "metadata": {},
   "outputs": [
    {
     "name": "stdout",
     "output_type": "stream",
     "text": [
      "  --train_max_history INTEGER RANGE\n",
      "                                  Maximum amount of rows that will be retained\n",
      "                                  in history. As new data arrives, models will\n",
      "                                  be retrained with a maximum number of rows\n",
      "                                  specified by this value.  [default: 1000;\n",
      "                                  x>=1]\n"
     ]
    }
   ],
   "source": [
    "!morpheus run pipeline-ae train-ae --help | grep 'train_max_history' -A 5"
   ]
  },
  {
   "cell_type": "markdown",
   "id": "5ecc9be1-a07e-4564-940b-cf36dd808cfc",
   "metadata": {},
   "source": [
    "---"
   ]
  },
  {
   "cell_type": "markdown",
   "id": "242e97ae-eecc-4a09-a8b8-d5d8ba41712d",
   "metadata": {},
   "source": [
    "## CloudTrail Data for Training"
   ]
  },
  {
   "cell_type": "markdown",
   "id": "daacad26-6e8a-413d-a8fb-c8163a3f3f9b",
   "metadata": {},
   "source": [
    "In this notebook, we are going to training an autoencoder model for a user called `role-g` using anonymized CloudTrail data:"
   ]
  },
  {
   "cell_type": "code",
   "execution_count": 8,
   "id": "d56dd561-ae3b-4e13-b1f9-c917cdb7d718",
   "metadata": {},
   "outputs": [
    {
     "name": "stdout",
     "output_type": "stream",
     "text": [
      "role-g-training-data.csv  user123-training-data.csv\n"
     ]
    }
   ],
   "source": [
    "!ls data/training-data/"
   ]
  },
  {
   "cell_type": "markdown",
   "id": "ae1f4b49-c150-4db0-bd0e-f3e1d081b209",
   "metadata": {},
   "source": [
    "This data was collected from a period of time when we know that `role-g` was not compromised."
   ]
  },
  {
   "cell_type": "code",
   "execution_count": 9,
   "id": "89766fbb-4e82-42a6-890e-59c68d63f98a",
   "metadata": {},
   "outputs": [],
   "source": [
    "import pandas as pd"
   ]
  },
  {
   "cell_type": "code",
   "execution_count": 10,
   "id": "a7371536-4f64-4b70-9d5b-c70bf237dc41",
   "metadata": {},
   "outputs": [],
   "source": [
    "df = pd.read_csv('data/training-data/role-g-training-data.csv')"
   ]
  },
  {
   "cell_type": "code",
   "execution_count": 11,
   "id": "7a8e98ca-3064-4073-9720-815c1906489a",
   "metadata": {},
   "outputs": [
    {
     "data": {
      "text/plain": [
       "(1257, 16)"
      ]
     },
     "execution_count": 11,
     "metadata": {},
     "output_type": "execute_result"
    }
   ],
   "source": [
    "df.shape"
   ]
  },
  {
   "cell_type": "code",
   "execution_count": 12,
   "id": "d071209a-482f-4ffa-8282-8fdada3e8cfa",
   "metadata": {},
   "outputs": [
    {
     "data": {
      "text/plain": [
       "Unnamed: 0                                          int64\n",
       "eventID                                             int64\n",
       "eventTime                                          object\n",
       "userIdentityaccountId                              object\n",
       "eventSource                                        object\n",
       "eventName                                          object\n",
       "sourceIPAddress                                    object\n",
       "userAgent                                          object\n",
       "userIdentitytype                                   object\n",
       "userIdentityprincipalId                            object\n",
       "userIdentityarn                                    object\n",
       "userIdentityaccessKeyId                            object\n",
       "userIdentitysessionContextsessionIssueruserName    object\n",
       "errorCode                                          object\n",
       "errorMessage                                       object\n",
       "apiVersion                                         object\n",
       "dtype: object"
      ]
     },
     "execution_count": 12,
     "metadata": {},
     "output_type": "execute_result"
    }
   ],
   "source": [
    "df.dtypes"
   ]
  },
  {
   "cell_type": "code",
   "execution_count": 13,
   "id": "be33582e-695e-43dd-bd6b-96b82584e1ff",
   "metadata": {},
   "outputs": [
    {
     "data": {
      "text/html": [
       "<div>\n",
       "<style scoped>\n",
       "    .dataframe tbody tr th:only-of-type {\n",
       "        vertical-align: middle;\n",
       "    }\n",
       "\n",
       "    .dataframe tbody tr th {\n",
       "        vertical-align: top;\n",
       "    }\n",
       "\n",
       "    .dataframe thead th {\n",
       "        text-align: right;\n",
       "    }\n",
       "</style>\n",
       "<table border=\"1\" class=\"dataframe\">\n",
       "  <thead>\n",
       "    <tr style=\"text-align: right;\">\n",
       "      <th></th>\n",
       "      <th>Unnamed: 0</th>\n",
       "      <th>eventID</th>\n",
       "      <th>eventTime</th>\n",
       "      <th>userIdentityaccountId</th>\n",
       "      <th>eventSource</th>\n",
       "      <th>eventName</th>\n",
       "      <th>sourceIPAddress</th>\n",
       "      <th>userAgent</th>\n",
       "      <th>userIdentitytype</th>\n",
       "      <th>userIdentityprincipalId</th>\n",
       "      <th>userIdentityarn</th>\n",
       "      <th>userIdentityaccessKeyId</th>\n",
       "      <th>userIdentitysessionContextsessionIssueruserName</th>\n",
       "      <th>errorCode</th>\n",
       "      <th>errorMessage</th>\n",
       "      <th>apiVersion</th>\n",
       "    </tr>\n",
       "  </thead>\n",
       "  <tbody>\n",
       "    <tr>\n",
       "      <th>0</th>\n",
       "      <td>0</td>\n",
       "      <td>0</td>\n",
       "      <td>2021-10-01T01:10:14Z</td>\n",
       "      <td>Account-123456789</td>\n",
       "      <td>lopez-byrd.info</td>\n",
       "      <td>GetSendQuota</td>\n",
       "      <td>208.49.113.40</td>\n",
       "      <td>Mozilla/5.0 (compatible; MSIE 9.0; Windows NT ...</td>\n",
       "      <td>FederatedUser</td>\n",
       "      <td>39c71b3a-ad54-4c28-916b-3da010b92564</td>\n",
       "      <td>arn:aws:4a40df8e-c56a-4e6c-acff-f24eebbc4512</td>\n",
       "      <td>NaN</td>\n",
       "      <td>role-g</td>\n",
       "      <td>success</td>\n",
       "      <td>NaN</td>\n",
       "      <td>NaN</td>\n",
       "    </tr>\n",
       "    <tr>\n",
       "      <th>1</th>\n",
       "      <td>1</td>\n",
       "      <td>1</td>\n",
       "      <td>2021-10-01T01:10:14Z</td>\n",
       "      <td>Account-123456789</td>\n",
       "      <td>lopez-byrd.info</td>\n",
       "      <td>GetSendQuota</td>\n",
       "      <td>208.49.113.40</td>\n",
       "      <td>Mozilla/5.0 (compatible; MSIE 9.0; Windows NT ...</td>\n",
       "      <td>FederatedUser</td>\n",
       "      <td>0baf594e-28c1-46cf-b261-f60b4c4790d1</td>\n",
       "      <td>arn:aws:573fd2d9-4345-487a-9673-87de888e4e10</td>\n",
       "      <td>NaN</td>\n",
       "      <td>role-g</td>\n",
       "      <td>success</td>\n",
       "      <td>NaN</td>\n",
       "      <td>NaN</td>\n",
       "    </tr>\n",
       "    <tr>\n",
       "      <th>2</th>\n",
       "      <td>2</td>\n",
       "      <td>2</td>\n",
       "      <td>2021-10-01T01:10:14Z</td>\n",
       "      <td>Account-123456789</td>\n",
       "      <td>robinson.com</td>\n",
       "      <td>ListTagsForResource</td>\n",
       "      <td>208.49.113.40</td>\n",
       "      <td>Mozilla/5.0 (compatible; MSIE 9.0; Windows NT ...</td>\n",
       "      <td>FederatedUser</td>\n",
       "      <td>7f8a985f-df3b-4c5c-92c0-e8bffd68abbf</td>\n",
       "      <td>arn:aws:c8c23266-13bb-4d89-bce9-a6eef8989214</td>\n",
       "      <td>ACPOSBUM5JG5BOW7B2TR</td>\n",
       "      <td>role-g</td>\n",
       "      <td>success</td>\n",
       "      <td>NaN</td>\n",
       "      <td>1984-11-26</td>\n",
       "    </tr>\n",
       "    <tr>\n",
       "      <th>3</th>\n",
       "      <td>3</td>\n",
       "      <td>3</td>\n",
       "      <td>2021-10-01T01:10:15Z</td>\n",
       "      <td>Account-123456789</td>\n",
       "      <td>lin.com</td>\n",
       "      <td>DescribeManagedPrefixLists</td>\n",
       "      <td>208.49.113.40</td>\n",
       "      <td>Mozilla/5.0 (compatible; MSIE 9.0; Windows NT ...</td>\n",
       "      <td>FederatedUser</td>\n",
       "      <td>3771df71-71a0-4c1b-a9df-130574a78999</td>\n",
       "      <td>arn:aws:1f1aab81-e00c-4364-bb39-9ec6d522353c</td>\n",
       "      <td>ABTHWOIIC0L5POZJM2FF</td>\n",
       "      <td>role-g</td>\n",
       "      <td>success</td>\n",
       "      <td>NaN</td>\n",
       "      <td>1990-05-27</td>\n",
       "    </tr>\n",
       "    <tr>\n",
       "      <th>4</th>\n",
       "      <td>4</td>\n",
       "      <td>4</td>\n",
       "      <td>2021-10-01T01:10:15Z</td>\n",
       "      <td>Account-123456789</td>\n",
       "      <td>lopez-byrd.info</td>\n",
       "      <td>GetSendQuota</td>\n",
       "      <td>208.49.113.40</td>\n",
       "      <td>Mozilla/5.0 (compatible; MSIE 9.0; Windows NT ...</td>\n",
       "      <td>FederatedUser</td>\n",
       "      <td>930bbed6-7bdd-4799-97c1-a50d04c2df79</td>\n",
       "      <td>arn:aws:fa23d2c0-3692-451f-ac5c-62cc45577a0d</td>\n",
       "      <td>NaN</td>\n",
       "      <td>role-g</td>\n",
       "      <td>success</td>\n",
       "      <td>NaN</td>\n",
       "      <td>NaN</td>\n",
       "    </tr>\n",
       "  </tbody>\n",
       "</table>\n",
       "</div>"
      ],
      "text/plain": [
       "   Unnamed: 0  eventID             eventTime userIdentityaccountId  \\\n",
       "0           0        0  2021-10-01T01:10:14Z     Account-123456789   \n",
       "1           1        1  2021-10-01T01:10:14Z     Account-123456789   \n",
       "2           2        2  2021-10-01T01:10:14Z     Account-123456789   \n",
       "3           3        3  2021-10-01T01:10:15Z     Account-123456789   \n",
       "4           4        4  2021-10-01T01:10:15Z     Account-123456789   \n",
       "\n",
       "       eventSource                   eventName sourceIPAddress  \\\n",
       "0  lopez-byrd.info                GetSendQuota   208.49.113.40   \n",
       "1  lopez-byrd.info                GetSendQuota   208.49.113.40   \n",
       "2     robinson.com         ListTagsForResource   208.49.113.40   \n",
       "3          lin.com  DescribeManagedPrefixLists   208.49.113.40   \n",
       "4  lopez-byrd.info                GetSendQuota   208.49.113.40   \n",
       "\n",
       "                                           userAgent userIdentitytype  \\\n",
       "0  Mozilla/5.0 (compatible; MSIE 9.0; Windows NT ...    FederatedUser   \n",
       "1  Mozilla/5.0 (compatible; MSIE 9.0; Windows NT ...    FederatedUser   \n",
       "2  Mozilla/5.0 (compatible; MSIE 9.0; Windows NT ...    FederatedUser   \n",
       "3  Mozilla/5.0 (compatible; MSIE 9.0; Windows NT ...    FederatedUser   \n",
       "4  Mozilla/5.0 (compatible; MSIE 9.0; Windows NT ...    FederatedUser   \n",
       "\n",
       "                userIdentityprincipalId  \\\n",
       "0  39c71b3a-ad54-4c28-916b-3da010b92564   \n",
       "1  0baf594e-28c1-46cf-b261-f60b4c4790d1   \n",
       "2  7f8a985f-df3b-4c5c-92c0-e8bffd68abbf   \n",
       "3  3771df71-71a0-4c1b-a9df-130574a78999   \n",
       "4  930bbed6-7bdd-4799-97c1-a50d04c2df79   \n",
       "\n",
       "                                userIdentityarn userIdentityaccessKeyId  \\\n",
       "0  arn:aws:4a40df8e-c56a-4e6c-acff-f24eebbc4512                     NaN   \n",
       "1  arn:aws:573fd2d9-4345-487a-9673-87de888e4e10                     NaN   \n",
       "2  arn:aws:c8c23266-13bb-4d89-bce9-a6eef8989214    ACPOSBUM5JG5BOW7B2TR   \n",
       "3  arn:aws:1f1aab81-e00c-4364-bb39-9ec6d522353c    ABTHWOIIC0L5POZJM2FF   \n",
       "4  arn:aws:fa23d2c0-3692-451f-ac5c-62cc45577a0d                     NaN   \n",
       "\n",
       "  userIdentitysessionContextsessionIssueruserName errorCode errorMessage  \\\n",
       "0                                          role-g   success          NaN   \n",
       "1                                          role-g   success          NaN   \n",
       "2                                          role-g   success          NaN   \n",
       "3                                          role-g   success          NaN   \n",
       "4                                          role-g   success          NaN   \n",
       "\n",
       "   apiVersion  \n",
       "0         NaN  \n",
       "1         NaN  \n",
       "2  1984-11-26  \n",
       "3  1990-05-27  \n",
       "4         NaN  "
      ]
     },
     "execution_count": 13,
     "metadata": {},
     "output_type": "execute_result"
    }
   ],
   "source": [
    "df.head()"
   ]
  },
  {
   "cell_type": "markdown",
   "id": "3a25bdbc-6694-4f33-9d15-7482d7274700",
   "metadata": {},
   "source": [
    "---"
   ]
  },
  {
   "cell_type": "markdown",
   "id": "3a32cdc2-76d0-450a-8c3b-c8142792eba4",
   "metadata": {
    "tags": []
   },
   "source": [
    "## CloudTrail Data for Pipeline Source"
   ]
  },
  {
   "cell_type": "markdown",
   "id": "ca662e21-f047-467a-9152-3216802bbe6e",
   "metadata": {},
   "source": [
    "The incoming source for the pipeline, the data on which we will be performing processing and inference, is also CloudTrail data that may or may not be compromised:"
   ]
  },
  {
   "cell_type": "code",
   "execution_count": 14,
   "id": "d52c1ce0-0492-41fc-b06f-788c2baf95a6",
   "metadata": {},
   "outputs": [
    {
     "name": "stdout",
     "output_type": "stream",
     "text": [
      "role-g-input-data.csv  user123-input-data.csv\n"
     ]
    }
   ],
   "source": [
    "!ls data/input-data"
   ]
  },
  {
   "cell_type": "markdown",
   "id": "931b8138-a258-4cb4-8135-be65ff8f3e4a",
   "metadata": {},
   "source": [
    "---"
   ]
  },
  {
   "cell_type": "markdown",
   "id": "a37668aa-7772-4182-9bd7-8cba232b5f99",
   "metadata": {},
   "source": [
    "## Explicitly Setting the Number of Pipeline Threads"
   ]
  },
  {
   "cell_type": "markdown",
   "id": "320dabdb-76d1-4388-a38b-e1e891739809",
   "metadata": {},
   "source": [
    "Morpheus pipelines can be configured to execute using multiple CPU threads. At the time of writing this, the default number of internal pipeline threads that morpheus will use is 4:"
   ]
  },
  {
   "cell_type": "code",
   "execution_count": 15,
   "id": "1b4c083a-0a12-4ca1-85ca-5960f470719f",
   "metadata": {},
   "outputs": [
    {
     "name": "stdout",
     "output_type": "stream",
     "text": [
      "  --num_threads INTEGER RANGE     Number of internal pipeline threads to use\n",
      "                                  [default: 4; x>=1]\n"
     ]
    }
   ],
   "source": [
    "!morpheus run --help | grep 'num_threads' -A 1"
   ]
  },
  {
   "cell_type": "markdown",
   "id": "ec6184c8-83e6-4136-b2f4-c5d40adc1ea1",
   "metadata": {},
   "source": [
    "In upcoming releases of Morpheus, the [default number of threads will be set to 1](https://github.com/nv-morpheus/Morpheus/blob/64564e1eb051f6820b13772074736e09bdc8941f/morpheus/config.py#L179-L180). For the interactive programming environment you are using right now, running the autoencoder pipeline with more than 1 internal pipeline thread can cause unexpected memory access errors. With that in mind, we will explicitly set the number of pipeline threads to 1 when using the autoencoder pipeline:"
   ]
  },
  {
   "cell_type": "markdown",
   "id": "0af9f2e5-5964-4c9b-aa3e-fec81a207673",
   "metadata": {},
   "source": [
    "```bash\n",
    "morpheus run \\\n",
    "  --num_threads=1 \\\n",
    "  ...\n",
    "```"
   ]
  },
  {
   "cell_type": "markdown",
   "id": "d3372398-7419-427d-9cf5-00ef40a0a37e",
   "metadata": {},
   "source": [
    "---"
   ]
  },
  {
   "cell_type": "markdown",
   "id": "1e1a0910-c324-47e4-9560-30bbb70edbd4",
   "metadata": {},
   "source": [
    "## The Autoencoder Pipeline"
   ]
  },
  {
   "cell_type": "markdown",
   "id": "effee26d-fafb-439f-a400-8009fe307e81",
   "metadata": {},
   "source": [
    "We are now ready to look at the actual pipeline we are going to be running with an understanding of all its constituent parts:"
   ]
  },
  {
   "cell_type": "markdown",
   "id": "ce1849dc-1c2d-4d56-99aa-29b1e586594c",
   "metadata": {},
   "source": [
    "```sh\n",
    "morpheus run \\\n",
    "  --num_threads=1 \\\n",
    "  pipeline-ae \\\n",
    "    --userid_filter=\"role-g\" \\\n",
    "    --userid_column_name=\"userIdentitysessionContextsessionIssueruserName\" \\\n",
    "  from-cloudtrail \\\n",
    "    --input_glob=\"data/input-data/*.csv\" \\\n",
    "  train-ae \\\n",
    "    --train_data_glob=\"data/training-data/*.csv\" \\\n",
    "    --seed 42 \\\n",
    "  preprocess \\\n",
    "  inf-pytorch \\\n",
    "  add-scores \\\n",
    "  serialize \\\n",
    "  to-file \\\n",
    "    --filename=\"data/output/role-g-output.csv\" \\\n",
    "    --overwrite\n",
    "```"
   ]
  },
  {
   "cell_type": "markdown",
   "id": "aab4c3b6-2b4f-474a-8ae5-fdab641032ac",
   "metadata": {},
   "source": [
    "In summary, this pipeline will train a digital fingerprint autoencoder model for user `role-g` using all CSV files in `data/training-data`. It will feed all CSV data from `data/input-data` into the pipeline, performing inference against the trained autoencoder for `role-g`'s activity. The pipeline will add inference results (using the `add-scores` stage) to each message and finally write the results to `data/output/role-g-output.csv`."
   ]
  },
  {
   "cell_type": "markdown",
   "id": "852b9dfd-dec4-40af-bde2-1e3e53d7ecc7",
   "metadata": {},
   "source": [
    "---"
   ]
  },
  {
   "cell_type": "markdown",
   "id": "ca92805a-30dd-417f-9221-88f6ab36ce7b",
   "metadata": {},
   "source": [
    "## Run the Pipeline"
   ]
  },
  {
   "cell_type": "markdown",
   "id": "306e1fc7-31a5-4dbc-8c23-9bfc0a710ddc",
   "metadata": {},
   "source": [
    "Execute the following cell to run the pipeline."
   ]
  },
  {
   "cell_type": "code",
   "execution_count": 16,
   "id": "71124edb-00b2-4078-bb3b-d54b8177da79",
   "metadata": {},
   "outputs": [
    {
     "name": "stdout",
     "output_type": "stream",
     "text": [
      "\u001b[32mConfiguring Pipeline via CLI\u001b[0m\n",
      "\u001b[33mC++ is disabled for AutoEncoder pipelines at this time.\u001b[0m\n",
      "\u001b[31mStarting pipeline via CLI... Ctrl+C to Quit\u001b[0m\n",
      "512\n"
     ]
    }
   ],
   "source": [
    "!morpheus run \\\n",
    "  --num_threads=1 \\\n",
    "  pipeline-ae \\\n",
    "    --userid_filter=\"role-g\" \\\n",
    "    --userid_column_name=\"userIdentitysessionContextsessionIssueruserName\" \\\n",
    "  from-cloudtrail \\\n",
    "    --input_glob=\"data/input-data/*.csv\" \\\n",
    "  train-ae \\\n",
    "    --train_data_glob=\"data/training-data/*.csv\" \\\n",
    "    --seed 42 \\\n",
    "  preprocess \\\n",
    "  inf-pytorch \\\n",
    "  add-scores \\\n",
    "  serialize \\\n",
    "  to-file \\\n",
    "    --filename=\"data/output/role-g-output.csv\" \\\n",
    "    --overwrite"
   ]
  },
  {
   "cell_type": "markdown",
   "id": "793b9747-e7de-4358-99cc-f72bf99de813",
   "metadata": {},
   "source": [
    "---"
   ]
  },
  {
   "cell_type": "markdown",
   "id": "8e002a53-6d9c-4f11-9c44-ab0ab62dbcb8",
   "metadata": {},
   "source": [
    "## Examine the Output"
   ]
  },
  {
   "cell_type": "markdown",
   "id": "01f27218-0a57-468f-9710-f7a0a1c0262e",
   "metadata": {},
   "source": [
    "The pipeline was configured to write its output to `data/output/role-g-output.csv`."
   ]
  },
  {
   "cell_type": "code",
   "execution_count": 17,
   "id": "0eb1ce95-ba6b-485b-850b-9cdeadc38379",
   "metadata": {},
   "outputs": [],
   "source": [
    "import pandas as pd"
   ]
  },
  {
   "cell_type": "code",
   "execution_count": 18,
   "id": "926380e0-1944-4576-a927-d5b6308933ac",
   "metadata": {},
   "outputs": [],
   "source": [
    "output = pd.read_csv('data/output/role-g-output.csv')"
   ]
  },
  {
   "cell_type": "code",
   "execution_count": 19,
   "id": "aec32d88-9335-488f-9394-41e6c27d77b8",
   "metadata": {},
   "outputs": [
    {
     "data": {
      "text/plain": [
       "Unnamed: 0                                           int64\n",
       "_index_                                              int64\n",
       "eventID                                              int64\n",
       "eventTime                                           object\n",
       "userIdentityaccountId                               object\n",
       "eventSource                                         object\n",
       "eventName                                           object\n",
       "sourceIPAddress                                     object\n",
       "userAgent                                           object\n",
       "userIdentitytype                                    object\n",
       "apiVersion                                          object\n",
       "userIdentityprincipalId                             object\n",
       "userIdentityarn                                     object\n",
       "userIdentityaccessKeyId                             object\n",
       "userIdentitysessionContextsessionIssueruserName     object\n",
       "errorCode                                           object\n",
       "errorMessage                                        object\n",
       "tlsDetailsclientProvidedHostHeader                 float64\n",
       "event_dt                                            object\n",
       "ae_anomaly_score                                   float64\n",
       "dtype: object"
      ]
     },
     "execution_count": 19,
     "metadata": {},
     "output_type": "execute_result"
    }
   ],
   "source": [
    "output.dtypes"
   ]
  },
  {
   "cell_type": "markdown",
   "id": "71aecb44-e06f-4e03-93c8-691e205174de",
   "metadata": {},
   "source": [
    "Of particular interest to us in the output is the newly added column `ae_anomaly_score` to which we will now turn our attention."
   ]
  },
  {
   "cell_type": "markdown",
   "id": "ce777d1b-7ea3-483c-88df-25bb7e9855b1",
   "metadata": {},
   "source": [
    "---"
   ]
  },
  {
   "cell_type": "markdown",
   "id": "b3db8882-afc4-468e-9a83-89337bafe8d6",
   "metadata": {},
   "source": [
    "## Autoencoder Anomaly Scores"
   ]
  },
  {
   "cell_type": "markdown",
   "id": "fff4c556-00e8-4b1c-95e2-c87c13c97ebe",
   "metadata": {},
   "source": [
    "The added `ae_anomaly_score` gives for each row its loss in reconstruction from the original dataframe. A greater loss indicates that the trained autoencoder model did less well at reconstructing the original dataframe. The higher the loss, the less the incoming data matches its digital fingerprint that was created during training of the autoencoder model.\n",
    "\n",
    "Because the autoencoder created the digital fingerprint during times not involved in an attack, incoming data whose loss exceeds some threshold we define should be considered anomalous, and sent to teams for further investigation."
   ]
  },
  {
   "cell_type": "code",
   "execution_count": 20,
   "id": "a47b616f-617b-4610-b710-f78285050a0d",
   "metadata": {},
   "outputs": [
    {
     "data": {
      "text/plain": [
       "count    314.000000\n",
       "mean       1.670528\n",
       "std        0.374099\n",
       "min        1.156825\n",
       "25%        1.426554\n",
       "50%        1.545133\n",
       "75%        1.858500\n",
       "max        2.911405\n",
       "Name: ae_anomaly_score, dtype: float64"
      ]
     },
     "execution_count": 20,
     "metadata": {},
     "output_type": "execute_result"
    }
   ],
   "source": [
    "output['ae_anomaly_score'].describe()"
   ]
  },
  {
   "cell_type": "code",
   "execution_count": 21,
   "id": "6de88e5d-6dd6-4429-bc81-2196857d891a",
   "metadata": {},
   "outputs": [
    {
     "data": {
      "text/plain": [
       "284    2.911405\n",
       "242    2.797282\n",
       "37     2.781512\n",
       "153    2.647699\n",
       "148    2.647699\n",
       "         ...   \n",
       "245    1.225285\n",
       "70     1.194002\n",
       "11     1.184147\n",
       "67     1.156832\n",
       "208    1.156825\n",
       "Name: ae_anomaly_score, Length: 314, dtype: float64"
      ]
     },
     "execution_count": 21,
     "metadata": {},
     "output_type": "execute_result"
    }
   ],
   "source": [
    "output.sort_values(by='ae_anomaly_score', ascending=False)['ae_anomaly_score']"
   ]
  },
  {
   "cell_type": "markdown",
   "id": "3fa77282-4f70-4c54-bafb-0c28c7f9cf1a",
   "metadata": {},
   "source": [
    "Although we can see that there is a range of loss scores over the data, they are not yet meaningful to us. In order to really understand whether these loss scores indicate anomalous behavior, we should construct z-scores."
   ]
  },
  {
   "cell_type": "markdown",
   "id": "7042f44e-39c5-4d92-9177-682166d06fc3",
   "metadata": {},
   "source": [
    "---"
   ]
  },
  {
   "cell_type": "markdown",
   "id": "c566f2d1-2e05-4954-bfa5-9088c6c6181a",
   "metadata": {},
   "source": [
    "## Z-Scores"
   ]
  },
  {
   "cell_type": "markdown",
   "id": "6bcf0f46-d550-4197-9918-13f55e5135e2",
   "metadata": {},
   "source": [
    "A high loss score in itself may not be sufficient to determine whether or not the data should be investigated further. A better and easy to obtain metric is its [z-score](https://en.wikipedia.org/wiki/Standard_score), which describes how many standard deviations away from an expected average a given value deviates.\n",
    "\n",
    "The z-score is calculated by taking a data point's value minus the average value for this data and then dividing by the data's standard deviation:"
   ]
  },
  {
   "cell_type": "markdown",
   "id": "a88c2c4a-c41c-4ef6-b991-5235812aed75",
   "metadata": {},
   "source": [
    "```python\n",
    "z_score = (data.value - data.mean) / data.standard_deviation\n",
    "```"
   ]
  },
  {
   "cell_type": "markdown",
   "id": "0b0a4adc-9a36-4919-831e-18b0bce91e85",
   "metadata": {},
   "source": [
    "Here we calculate the z-score for each row's reconstruction loss:"
   ]
  },
  {
   "cell_type": "code",
   "execution_count": 22,
   "id": "82dee0e0-2b33-46f8-976e-2d386ecd92b4",
   "metadata": {},
   "outputs": [],
   "source": [
    "output['zscore'] = ( output['ae_anomaly_score'] - output['ae_anomaly_score'].mean() ) / output['ae_anomaly_score'].std()"
   ]
  },
  {
   "cell_type": "code",
   "execution_count": 23,
   "id": "f7503a4c-359f-4832-8e68-fc75334c7c5b",
   "metadata": {},
   "outputs": [
    {
     "data": {
      "text/plain": [
       "count    3.140000e+02\n",
       "mean    -1.923444e-16\n",
       "std      1.000000e+00\n",
       "min     -1.373172e+00\n",
       "25%     -6.521624e-01\n",
       "50%     -3.351919e-01\n",
       "75%      5.024665e-01\n",
       "max      3.316975e+00\n",
       "Name: zscore, dtype: float64"
      ]
     },
     "execution_count": 23,
     "metadata": {},
     "output_type": "execute_result"
    }
   ],
   "source": [
    "output['zscore'].describe()"
   ]
  },
  {
   "cell_type": "code",
   "execution_count": 24,
   "id": "e9677e5d-9428-47c4-a1bf-a218de0541f6",
   "metadata": {},
   "outputs": [
    {
     "data": {
      "text/plain": [
       "284    3.316975\n",
       "242    3.011914\n",
       "37     2.969760\n",
       "153    2.612067\n",
       "148    2.612067\n",
       "         ...   \n",
       "245   -1.190172\n",
       "70    -1.273795\n",
       "11    -1.300140\n",
       "67    -1.373154\n",
       "208   -1.373172\n",
       "Name: zscore, Length: 314, dtype: float64"
      ]
     },
     "execution_count": 24,
     "metadata": {},
     "output_type": "execute_result"
    }
   ],
   "source": [
    "output.sort_values(by='zscore', ascending=False)['zscore']"
   ]
  },
  {
   "cell_type": "markdown",
   "id": "e12374e9-a3d0-46a7-a6e5-a0efaddca861",
   "metadata": {},
   "source": [
    "The lower the z-score threshold you set, the more events you will flag for further investigation. The higher the z-score threshold you set the fewer false positives you will investigate. Your organization can decide and modify over time the most appropriate threshold for your data."
   ]
  },
  {
   "cell_type": "markdown",
   "id": "279b22b5-4d3e-4e58-b895-94afc22ef90d",
   "metadata": {},
   "source": [
    "---"
   ]
  },
  {
   "cell_type": "markdown",
   "id": "a77251f8-dc33-4010-9e26-077de5369f33",
   "metadata": {},
   "source": [
    "## Analysis"
   ]
  },
  {
   "cell_type": "markdown",
   "id": "c7717a43-4d28-414a-ba2e-103f7c7b16dd",
   "metadata": {},
   "source": [
    "We typically recommend starting with a z-score threshold of 2 or 4 to warrant further investigation. For this example let us assume a z-score threshold of 4.\n",
    "\n",
    "In the above output the highest z-score was less than 4. In this case it is reasonable to assume that we did not find any particularly anomalous behavior for this user in the data that passed through the pipeline."
   ]
  },
  {
   "cell_type": "markdown",
   "id": "109cb72d-71e2-49d6-93af-0bfad52bc5e3",
   "metadata": {},
   "source": [
    "---"
   ]
  },
  {
   "cell_type": "markdown",
   "id": "81ee2696-8bb9-4c6d-9cda-8ac6aa403002",
   "metadata": {},
   "source": [
    "## Next"
   ]
  },
  {
   "cell_type": "markdown",
   "id": "3f8b5445-fc60-4214-b35c-466ebfd6867a",
   "metadata": {},
   "source": [
    "Now that you have gained some familiarity using the autoencoder pipeline to both create a digital fingerprint for a user, and to perform inference against that fingerprint with new incoming data, it's your turn to use this technique to identify a hacked user account.\n",
    "\n",
    "Please continue to the next notebook."
   ]
  }
 ],
 "metadata": {
  "kernelspec": {
   "display_name": "Python 3 (ipykernel)",
   "language": "python",
   "name": "python3"
  },
  "language_info": {
   "codemirror_mode": {
    "name": "ipython",
    "version": 3
   },
   "file_extension": ".py",
   "mimetype": "text/x-python",
   "name": "python",
   "nbconvert_exporter": "python",
   "pygments_lexer": "ipython3",
   "version": "3.8.13"
  }
 },
 "nbformat": 4,
 "nbformat_minor": 5
}
