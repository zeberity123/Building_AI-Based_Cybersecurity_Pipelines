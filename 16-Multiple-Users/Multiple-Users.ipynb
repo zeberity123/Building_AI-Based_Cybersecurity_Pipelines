{
 "cells": [
  {
   "cell_type": "markdown",
   "id": "6e85713c-31aa-4e43-950a-d732549d2b0a",
   "metadata": {},
   "source": [
    "![DLI Header](../images/DLI_Header.png)"
   ]
  },
  {
   "cell_type": "markdown",
   "id": "90a26d66-b6b1-4c3f-8aad-8d56bf0740d1",
   "metadata": {},
   "source": [
    "# Running the Autoencoder Pipeline on Multiple Users"
   ]
  },
  {
   "cell_type": "markdown",
   "id": "2b12af53-e39d-49c8-ab8c-8ef99541d109",
   "metadata": {},
   "source": [
    "In previous notebooks we have been building pipelines to do autoencoder-based digital fingerprinting and time series analysis for a single user/service. In this notebook we will start to show off the powerful capability of Mopheus pipelines to train models and perform inference on arbitrary numbers of users."
   ]
  },
  {
   "cell_type": "markdown",
   "id": "65f19e54-54a8-4bdd-bb31-8c4fe6531b2f",
   "metadata": {},
   "source": [
    "## Objectives"
   ]
  },
  {
   "cell_type": "markdown",
   "id": "453eaf22-d8dd-4839-8646-0d9e29258b7c",
   "metadata": {},
   "source": [
    "By the time you complete this notebook you will:\n",
    "\n",
    "- Construct autoencoder pipelines that create models and perform inference on arbitrary numbers of users.\n",
    "- Be able to perform autoencoder z-score and time series anomaly analysis on output data containing multiple users."
   ]
  },
  {
   "cell_type": "markdown",
   "id": "cc44a8c9-6d5f-4a2a-af8f-34be5306e27b",
   "metadata": {},
   "source": [
    "---"
   ]
  },
  {
   "cell_type": "markdown",
   "id": "9bf8a115-f7af-43e8-85ec-8d50b3af46cb",
   "metadata": {},
   "source": [
    "## Removing the User ID Filter"
   ]
  },
  {
   "cell_type": "markdown",
   "id": "63cff7d2-c380-4580-8ceb-1ad8cdcefdba",
   "metadata": {},
   "source": [
    "In previous notebooks, when using `pipeline-ae`, we have been setting the optional `--userid_filter` option to specify a single user for which the pipeline should train a model and perform inference. Note its use in the following pipeline, representative of our work in previous notebooks:"
   ]
  },
  {
   "cell_type": "markdown",
   "id": "e8847cfc-d160-48db-be6d-31722269da6a",
   "metadata": {},
   "source": [
    "```bash\n",
    "morpheus run \\\n",
    "  --num_threads=1 \\\n",
    "  pipeline-ae \\\n",
    "    --userid_filter=\"role-g\" \\\n",
    "    --userid_column_name=\"userIdentitysessionContextsessionIssueruserName\" \\\n",
    "  from-cloudtrail \\\n",
    "    --input_glob=\"data/input-data/*.csv\" \\\n",
    "  train-ae \\\n",
    "    --train_data_glob=\"data/training-data/*.csv\" \\\n",
    "    --seed 42 \\\n",
    "  preprocess \\\n",
    "  inf-pytorch \\\n",
    "  add-scores \\\n",
    "  timeseries \\\n",
    "    --resolution=10m \\\n",
    "    --zscore_threshold=8.0 \\\n",
    "  serialize \\\n",
    "  to-file \\\n",
    "    --filename=\"data/output/output.csv\" \\\n",
    "    --overwrite\n",
    "```"
   ]
  },
  {
   "cell_type": "markdown",
   "id": "5222bebf-3f37-4d60-b712-f7cca1a9c0fa",
   "metadata": {},
   "source": [
    "If we choose to omit the `--userid_filter` option, then the pipeline will look for every unique value in the `--userid_column_name` column and will train an autoencoder model and perform inference for each of these unique values."
   ]
  },
  {
   "cell_type": "markdown",
   "id": "243f7c8e-d88c-4ba6-89ab-2d5879c617be",
   "metadata": {},
   "source": [
    "## Running the AE Pipeline for Multiple Users"
   ]
  },
  {
   "cell_type": "markdown",
   "id": "1f578aaf-e448-47c3-8f2d-9b2efbaaf564",
   "metadata": {},
   "source": [
    "Here we remove the `--userid_filter` option to train autoencoders and perform inference for multiple users. We have set the `--log_level` option to `DEBUG` which will allow you to observe, in the output of the pipeline, print statements indicating that models have been trained for more than one user. In this case our data contains two unique users in the `userid_column_name` column: `user123` and `role-g`:"
   ]
  },
  {
   "cell_type": "code",
   "execution_count": 1,
   "id": "c2e9009c-885c-43a8-9c87-d86b516e7162",
   "metadata": {},
   "outputs": [
    {
     "name": "stdout",
     "output_type": "stream",
     "text": [
      "\u001b[32mConfiguring Pipeline via CLI\u001b[0m\n",
      "\u001b[33mC++ is disabled for AutoEncoder pipelines at this time.\u001b[0m\n",
      "\u001b[2mLoaded columns. Current columns: [['eventSource', 'eventName', 'sourceIPAddress', 'userAgent', 'userIdentitytype', 'requestParametersroleArn', 'requestParametersroleSessionName', 'requestParametersdurationSeconds', 'responseElementsassumedRoleUserassumedRoleId', 'responseElementsassumedRoleUserarn', 'apiVersion', 'userIdentityprincipalId', 'userIdentityarn', 'userIdentityaccountId', 'userIdentityaccessKeyId', 'userIdentitysessionContextsessionIssuerprincipalId', 'userIdentitysessionContextsessionIssueruserName', 'tlsDetailsclientProvidedHostHeader', 'requestParametersownersSetitems', 'requestParametersmaxResults', 'requestParametersinstancesSetitems', 'errorCode', 'errorMessage', 'requestParametersmaxItems', 'responseElementsrequestId', 'responseElementsinstancesSetitems', 'requestParametersgroupSetitems', 'requestParametersinstanceType', 'requestParametersmonitoringenabled', 'requestParametersdisableApiTermination', 'requestParametersebsOptimized', 'responseElementsreservationId', 'requestParametersgroupName']]\u001b[0m\n",
      "\u001b[31mStarting pipeline via CLI... Ctrl+C to Quit\u001b[0m\n",
      "Config: \n",
      "{\n",
      "  \"ae\": {\n",
      "    \"feature_columns\": [\n",
      "      \"eventSource\",\n",
      "      \"eventName\",\n",
      "      \"sourceIPAddress\",\n",
      "      \"userAgent\",\n",
      "      \"userIdentitytype\",\n",
      "      \"requestParametersroleArn\",\n",
      "      \"requestParametersroleSessionName\",\n",
      "      \"requestParametersdurationSeconds\",\n",
      "      \"responseElementsassumedRoleUserassumedRoleId\",\n",
      "      \"responseElementsassumedRoleUserarn\",\n",
      "      \"apiVersion\",\n",
      "      \"userIdentityprincipalId\",\n",
      "      \"userIdentityarn\",\n",
      "      \"userIdentityaccountId\",\n",
      "      \"userIdentityaccessKeyId\",\n",
      "      \"userIdentitysessionContextsessionIssuerprincipalId\",\n",
      "      \"userIdentitysessionContextsessionIssueruserName\",\n",
      "      \"tlsDetailsclientProvidedHostHeader\",\n",
      "      \"requestParametersownersSetitems\",\n",
      "      \"requestParametersmaxResults\",\n",
      "      \"requestParametersinstancesSetitems\",\n",
      "      \"errorCode\",\n",
      "      \"errorMessage\",\n",
      "      \"requestParametersmaxItems\",\n",
      "      \"responseElementsrequestId\",\n",
      "      \"responseElementsinstancesSetitems\",\n",
      "      \"requestParametersgroupSetitems\",\n",
      "      \"requestParametersinstanceType\",\n",
      "      \"requestParametersmonitoringenabled\",\n",
      "      \"requestParametersdisableApiTermination\",\n",
      "      \"requestParametersebsOptimized\",\n",
      "      \"responseElementsreservationId\",\n",
      "      \"requestParametersgroupName\"\n",
      "    ],\n",
      "    \"userid_column_name\": \"userIdentitysessionContextsessionIssueruserName\",\n",
      "    \"userid_filter\": null\n",
      "  },\n",
      "  \"class_labels\": [\n",
      "    \"ae_anomaly_score\"\n",
      "  ],\n",
      "  \"debug\": false,\n",
      "  \"edge_buffer_size\": 128,\n",
      "  \"feature_length\": 256,\n",
      "  \"fil\": null,\n",
      "  \"log_config_file\": null,\n",
      "  \"log_level\": 10,\n",
      "  \"mode\": \"AE\",\n",
      "  \"model_max_batch_size\": 8,\n",
      "  \"num_threads\": 1,\n",
      "  \"pipeline_batch_size\": 256\n",
      "}\u001b[0m\n",
      "CPP Enabled: False\u001b[0m\n",
      "====Registering Pipeline====\u001b[0m\n",
      "====Registering Pipeline Complete!====\u001b[0m\n",
      "====Starting Pipeline====\u001b[0m\n",
      "====Building Pipeline====\u001b[0m\n",
      "Added source: <from-cloudtrail-0; CloudTrailSourceStage(input_glob=data/input-data/*.csv, watch_directory=False, max_files=-1, file_type=FileTypes.Auto, repeat=1, sort_glob=False)>\n",
      "  └─> morpheus.UserMessageMeta\u001b[0m\n",
      "\u001b[2mTraining AE model for user: 'role-g'...\u001b[0m\n",
      "512\n",
      "\u001b[2mTraining AE model for user: 'role-g'... Complete.\u001b[0m\n",
      "\u001b[2mTraining AE model for user: 'user123'...\u001b[0m\n",
      "512\n",
      "\u001b[2mTraining AE model for user: 'user123'... Complete.\u001b[0m\n",
      "Added stage: <train-ae-1; TrainAEStage(pretrained_filename=None, train_data_glob=data/training-data/*.csv, train_epochs=25, train_max_history=1000, seed=42, sort_glob=False)>\n",
      "  └─ morpheus.UserMessageMeta -> morpheus.MultiAEMessage\u001b[0m\n",
      "Added stage: <preprocess-ae-2; PreprocessAEStage()>\n",
      "  └─ morpheus.MultiAEMessage -> morpheus.MultiInferenceAEMessage\u001b[0m\n",
      "Added stage: <inference-3; AutoEncoderInferenceStage()>\n",
      "  └─ morpheus.MultiInferenceAEMessage -> morpheus.MultiResponseProbsMessage\u001b[0m\n",
      "Added stage: <add-scores-4; AddScoresStage(labels=[], prefix=)>\n",
      "  └─ morpheus.MultiResponseProbsMessage -> morpheus.MultiResponseProbsMessage\u001b[0m\n",
      "Added stage: <timeseries-5; TimeSeriesStage(resolution=10m, min_window=12 h, hot_start=False, cold_end=False, filter_percent=90.0, zscore_threshold=8.0)>\n",
      "  └─ morpheus.MultiResponseProbsMessage -> morpheus.MultiResponseProbsMessage\u001b[0m\n",
      "Added stage: <serialize-6; SerializeStage(include=[], exclude=['^ID$', '^_ts_'], fixed_columns=True)>\n",
      "  └─ morpheus.MultiResponseProbsMessage -> morpheus.MessageMeta\u001b[0m\n",
      "Added stage: <to-file-7; WriteToFileStage(filename=data/output/output.csv, overwrite=True, file_type=FileTypes.Auto)>\n",
      "  └─ morpheus.MessageMeta -> morpheus.MessageMeta\u001b[0m\n",
      "====Building Pipeline Complete!====\u001b[0m\n",
      "\u001b[2mStarting! Time: 1712298843.1374147\u001b[0m\n",
      "====Pipeline Started====\u001b[0m\n",
      "Found 2 CloudTrail files in glob. Loading...\u001b[0m\n",
      "\u001b[2mCloudTrail loading complete. Total rows: 1161. Timespan: \n",
      "0   7 days 12:08:20\n",
      "0   4 days 14:59:18\n",
      "Name: event_dt, dtype: timedelta64[ns]\u001b[0m\n",
      "\u001b[2mFound anomalies: [Timestamp('2021-10-06 18:00:00+0000', tz='UTC')]\u001b[0m\n",
      "\u001b[2mFound anomalies: [Timestamp('2021-10-06 18:00:00+0000', tz='UTC')]\u001b[0m\n",
      "\u001b[2mFound anomalies (Shutdown): [Timestamp('2021-10-08 00:40:00+0000', tz='UTC'), Timestamp('2021-10-08 02:40:00+0000', tz='UTC')]\u001b[0m\n",
      "====Pipeline Complete====\u001b[0m\n"
     ]
    }
   ],
   "source": [
    "!morpheus --log_level=DEBUG run \\\n",
    "    --num_threads=1 \\\n",
    "  pipeline-ae \\\n",
    "    --userid_column_name=\"userIdentitysessionContextsessionIssueruserName\" \\\n",
    "  from-cloudtrail \\\n",
    "    --input_glob=\"data/input-data/*.csv\" \\\n",
    "  train-ae \\\n",
    "    --train_data_glob=\"data/training-data/*.csv\" \\\n",
    "    --seed 42 \\\n",
    "  preprocess \\\n",
    "  inf-pytorch \\\n",
    "  add-scores \\\n",
    "  timeseries \\\n",
    "    --resolution=10m \\\n",
    "    --zscore_threshold=8.0 \\\n",
    "  serialize \\\n",
    "  to-file \\\n",
    "    --filename=\"data/output/output.csv\" \\\n",
    "    --overwrite"
   ]
  },
  {
   "cell_type": "markdown",
   "id": "f01fff50-a622-476f-9061-0b0420bc3244",
   "metadata": {},
   "source": [
    "---"
   ]
  },
  {
   "cell_type": "markdown",
   "id": "c52b39ef-c3d9-4389-b4e5-e1e19981bf8e",
   "metadata": {},
   "source": [
    "## Explore the Results"
   ]
  },
  {
   "cell_type": "markdown",
   "id": "b78b84cd-2cf4-49e1-b7d8-a4a6d367573a",
   "metadata": {},
   "source": [
    "The pipeline was configured to write its output to data/output/output.csv."
   ]
  },
  {
   "cell_type": "code",
   "execution_count": 2,
   "id": "3f965858-406f-4107-9437-ad87bdcb8b97",
   "metadata": {},
   "outputs": [],
   "source": [
    "import pandas as pd"
   ]
  },
  {
   "cell_type": "code",
   "execution_count": 3,
   "id": "0b842d2e-6190-4c1e-a0ff-3dbed77c2d3a",
   "metadata": {},
   "outputs": [],
   "source": [
    "import pandas as pd\n",
    "output = pd.read_csv('data/output/output.csv')"
   ]
  },
  {
   "cell_type": "markdown",
   "id": "8497b29a-4c73-4a5e-a8bc-c9a89748fa6b",
   "metadata": {},
   "source": [
    "## Identify Number of Unique Users"
   ]
  },
  {
   "cell_type": "markdown",
   "id": "08f1a96e-62df-45ec-b928-0f31a7df4133",
   "metadata": {},
   "source": [
    "Here we obtain the number of unique users in the output data."
   ]
  },
  {
   "cell_type": "code",
   "execution_count": 4,
   "id": "c02eda2a-ee9f-418b-a014-1600d046799a",
   "metadata": {},
   "outputs": [],
   "source": [
    "import pandas as pd\n",
    "output = pd.read_csv('data/output/output.csv')\n",
    "unique_users = output['userIdentitysessionContextsessionIssueruserName'].unique()"
   ]
  },
  {
   "cell_type": "code",
   "execution_count": 5,
   "id": "b378ec46-8c2d-4d00-b8b3-9cdf72bec393",
   "metadata": {},
   "outputs": [
    {
     "name": "stdout",
     "output_type": "stream",
     "text": [
      "2\n"
     ]
    }
   ],
   "source": [
    "import pandas as pd\n",
    "output = pd.read_csv('data/output/output.csv')\n",
    "unique_users = output['userIdentitysessionContextsessionIssueruserName'].unique()\n",
    "print(len(unique_users))"
   ]
  },
  {
   "cell_type": "markdown",
   "id": "b9ca669f-16ca-4673-958c-d0836b99a57a",
   "metadata": {},
   "source": [
    "## Create Z-Scores for Each User"
   ]
  },
  {
   "cell_type": "markdown",
   "id": "c5ffc5f4-9642-4b1c-ba6d-d224b96f6539",
   "metadata": {},
   "source": [
    "Recall that rather than using the autoencoder reconstruction loss values directly, we instead convert them to their z-scores, which tell us how many standard deviations away from a mean reconstruction loss value they are:"
   ]
  },
  {
   "cell_type": "markdown",
   "id": "343c3e2d-078b-447b-9253-bad8ee53b6c8",
   "metadata": {},
   "source": [
    "```python\n",
    "output['zscore'] = ( output['ae_anomaly_score'] - output['ae_anomaly_score'].mean() ) / output['ae_anomaly_score'].std()\n",
    "```"
   ]
  },
  {
   "cell_type": "markdown",
   "id": "f5bc17af-bf54-4900-9dbe-4ca4e4ffe20c",
   "metadata": {},
   "source": [
    "Now that we have an `output` dataframe containing multiple users, we need to modify our z-score calculation since both `output['ae_anomaly_score'].mean()` and `output['ae_anomaly_score'].std()` would give us the mean and standard deviation, respectively, for all users instead of for just the values associated with the single user represented in a given row of the dataframe.\n",
    "\n",
    "With that in mind here is one approach to creating a `zscore` column for each entry in the dataframe which only calculates the mean and standard deviations for anomaly scores in the dataframe associated with the user contained in each row:"
   ]
  },
  {
   "cell_type": "code",
   "execution_count": 6,
   "id": "cd2c9186-ce33-4b61-92b2-606f117a564f",
   "metadata": {},
   "outputs": [],
   "source": [
    "# `unique_users` was defined above.\n",
    "for user in unique_users:\n",
    "    anomaly_score = output['ae_anomaly_score']\n",
    "    \n",
    "    # Match rows for this user.\n",
    "    is_user = output['userIdentitysessionContextsessionIssueruserName'] == user\n",
    "    \n",
    "    # Mean for this user's anomaly scores.\n",
    "    user_anomaly_score_mean = output[is_user]['ae_anomaly_score'].mean()\n",
    "    \n",
    "    # Standard deviation for this user's anomaly scores.\n",
    "    user_anomaly_score_std = output[is_user]['ae_anomaly_score'].std()\n",
    "    \n",
    "    # Create zscores for this user.\n",
    "    output.loc[is_user, ['zscore']] = ( anomaly_score - user_anomaly_score_mean ) / user_anomaly_score_std"
   ]
  },
  {
   "cell_type": "markdown",
   "id": "032b31c6-9369-4989-a4c5-a65ba9b67fb6",
   "metadata": {},
   "source": [
    "## Check for High Z-Scores"
   ]
  },
  {
   "cell_type": "markdown",
   "id": "c8ff9d00-69b1-490a-97dd-e02a3cbb2365",
   "metadata": {},
   "source": [
    "Let's assume any z-score value greater than 4 is considered high, and obtain the scores and user IDs for any entry with a high z-score:"
   ]
  },
  {
   "cell_type": "code",
   "execution_count": 7,
   "id": "29ae75bc-65d8-4106-8e44-0ac0b361612a",
   "metadata": {},
   "outputs": [],
   "source": [
    "# Set threshold for a high z-score.\n",
    "zscore_threshold = 2\n",
    "\n",
    "# Get all z-scores higher than threshold.\n",
    "high_zscore = output['zscore'] > zscore_threshold\n",
    "\n",
    "# Get z-score and user name for all z-scores exceeding high z-score threshold.\n",
    "high_zscores_names = output[high_zscore][['zscore', 'userIdentitysessionContextsessionIssueruserName']]"
   ]
  },
  {
   "cell_type": "code",
   "execution_count": 8,
   "id": "0846d9b5-96b2-4b58-90a4-22d9c58b2582",
   "metadata": {},
   "outputs": [
    {
     "data": {
      "text/html": [
       "<div>\n",
       "<style scoped>\n",
       "    .dataframe tbody tr th:only-of-type {\n",
       "        vertical-align: middle;\n",
       "    }\n",
       "\n",
       "    .dataframe tbody tr th {\n",
       "        vertical-align: top;\n",
       "    }\n",
       "\n",
       "    .dataframe thead th {\n",
       "        text-align: right;\n",
       "    }\n",
       "</style>\n",
       "<table border=\"1\" class=\"dataframe\">\n",
       "  <thead>\n",
       "    <tr style=\"text-align: right;\">\n",
       "      <th></th>\n",
       "      <th>zscore</th>\n",
       "      <th>userIdentitysessionContextsessionIssueruserName</th>\n",
       "    </tr>\n",
       "  </thead>\n",
       "  <tbody>\n",
       "    <tr>\n",
       "      <th>1</th>\n",
       "      <td>2.048213</td>\n",
       "      <td>role-g</td>\n",
       "    </tr>\n",
       "    <tr>\n",
       "      <th>29</th>\n",
       "      <td>2.668827</td>\n",
       "      <td>role-g</td>\n",
       "    </tr>\n",
       "    <tr>\n",
       "      <th>37</th>\n",
       "      <td>3.152065</td>\n",
       "      <td>role-g</td>\n",
       "    </tr>\n",
       "    <tr>\n",
       "      <th>75</th>\n",
       "      <td>2.601259</td>\n",
       "      <td>role-g</td>\n",
       "    </tr>\n",
       "    <tr>\n",
       "      <th>101</th>\n",
       "      <td>2.668827</td>\n",
       "      <td>role-g</td>\n",
       "    </tr>\n",
       "    <tr>\n",
       "      <th>...</th>\n",
       "      <td>...</td>\n",
       "      <td>...</td>\n",
       "    </tr>\n",
       "    <tr>\n",
       "      <th>1129</th>\n",
       "      <td>2.365076</td>\n",
       "      <td>user123</td>\n",
       "    </tr>\n",
       "    <tr>\n",
       "      <th>1130</th>\n",
       "      <td>3.133815</td>\n",
       "      <td>user123</td>\n",
       "    </tr>\n",
       "    <tr>\n",
       "      <th>1131</th>\n",
       "      <td>2.174497</td>\n",
       "      <td>user123</td>\n",
       "    </tr>\n",
       "    <tr>\n",
       "      <th>1146</th>\n",
       "      <td>2.116456</td>\n",
       "      <td>user123</td>\n",
       "    </tr>\n",
       "    <tr>\n",
       "      <th>1147</th>\n",
       "      <td>2.515024</td>\n",
       "      <td>user123</td>\n",
       "    </tr>\n",
       "  </tbody>\n",
       "</table>\n",
       "<p>77 rows × 2 columns</p>\n",
       "</div>"
      ],
      "text/plain": [
       "        zscore userIdentitysessionContextsessionIssueruserName\n",
       "1     2.048213                                          role-g\n",
       "29    2.668827                                          role-g\n",
       "37    3.152065                                          role-g\n",
       "75    2.601259                                          role-g\n",
       "101   2.668827                                          role-g\n",
       "...        ...                                             ...\n",
       "1129  2.365076                                         user123\n",
       "1130  3.133815                                         user123\n",
       "1131  2.174497                                         user123\n",
       "1146  2.116456                                         user123\n",
       "1147  2.515024                                         user123\n",
       "\n",
       "[77 rows x 2 columns]"
      ]
     },
     "execution_count": 8,
     "metadata": {},
     "output_type": "execute_result"
    }
   ],
   "source": [
    "# Print z-score and user name for all z-scores exceeding high z-score threshold.\n",
    "high_zscores_names"
   ]
  },
  {
   "cell_type": "code",
   "execution_count": 9,
   "id": "798a1043-d02e-4ed8-96b7-e36a3fd52307",
   "metadata": {},
   "outputs": [
    {
     "data": {
      "text/plain": [
       "array(['role-g', 'user123'], dtype=object)"
      ]
     },
     "execution_count": 9,
     "metadata": {},
     "output_type": "execute_result"
    }
   ],
   "source": [
    "# Print users with high zscore entries.\n",
    "high_zscores_names['userIdentitysessionContextsessionIssueruserName'].unique()"
   ]
  },
  {
   "cell_type": "markdown",
   "id": "fbf90677-1e5a-43c1-b7b6-e45100e0941f",
   "metadata": {},
   "source": [
    "As in previous notebooks, `user123` is the user/service with z-scores exceeding 4."
   ]
  },
  {
   "cell_type": "markdown",
   "id": "25b6507d-b28c-40fa-b50f-edfb480e3410",
   "metadata": {},
   "source": [
    "## Get Users with Time Series Anomalies"
   ]
  },
  {
   "cell_type": "markdown",
   "id": "7afadbf8-c590-4bbd-8c4b-e9d150d72aed",
   "metadata": {},
   "source": [
    "In addition to autoencoder-based anomaly detection, we also configured the pipeline above to identify time series anomalies over each 10 minute period of time, setting the time series z-score threshold to 8:"
   ]
  },
  {
   "cell_type": "markdown",
   "id": "40f305b9-e267-4260-9a56-9bd9d6733a10",
   "metadata": {},
   "source": [
    "```python\n",
    "  timeseries \\\n",
    "    --resolution=10m \\\n",
    "    --zscore_threshold=8.0 \\\n",
    "```"
   ]
  },
  {
   "cell_type": "markdown",
   "id": "de56d9f6-6ac9-4a3f-9036-a49e3a0f9981",
   "metadata": {},
   "source": [
    "Here we get any user in our output that exhibited this kind of time series anomaly:"
   ]
  },
  {
   "cell_type": "code",
   "execution_count": 10,
   "id": "39696ee3-3521-4091-b11d-b68cdfbc7c0d",
   "metadata": {},
   "outputs": [
    {
     "data": {
      "text/plain": [
       "array(['user123'], dtype=object)"
      ]
     },
     "execution_count": 10,
     "metadata": {},
     "output_type": "execute_result"
    }
   ],
   "source": [
    "output[output['ts_anomaly'] == True]['userIdentitysessionContextsessionIssueruserName'].unique()"
   ]
  },
  {
   "cell_type": "markdown",
   "id": "efbcb7c1-27a8-4416-955e-9925be63497c",
   "metadata": {},
   "source": [
    "---"
   ]
  },
  {
   "cell_type": "markdown",
   "id": "8c810605-0e05-4a62-b018-bdf77f991b32",
   "metadata": {},
   "source": [
    "## Next"
   ]
  },
  {
   "cell_type": "markdown",
   "id": "dbdf49dc-f3f1-41ed-975c-2ae27497744c",
   "metadata": {},
   "source": [
    "In the next section you will complete your final coding exercise of the workshop, building a digital fingerprint and time series analysis pipeline from scratch, creating models for and performing inference on multiple users.\n",
    "\n",
    "Please continue to the next notebook."
   ]
  }
 ],
 "metadata": {
  "kernelspec": {
   "display_name": "Python 3 (ipykernel)",
   "language": "python",
   "name": "python3"
  },
  "language_info": {
   "codemirror_mode": {
    "name": "ipython",
    "version": 3
   },
   "file_extension": ".py",
   "mimetype": "text/x-python",
   "name": "python",
   "nbconvert_exporter": "python",
   "pygments_lexer": "ipython3",
   "version": "3.8.13"
  }
 },
 "nbformat": 4,
 "nbformat_minor": 5
}
