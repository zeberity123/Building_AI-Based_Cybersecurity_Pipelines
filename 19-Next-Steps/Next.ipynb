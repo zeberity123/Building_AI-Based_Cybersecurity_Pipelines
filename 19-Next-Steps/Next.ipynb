{
 "cells": [
  {
   "cell_type": "markdown",
   "id": "d402e0d3-0bc0-40a9-932c-3421fa6e792f",
   "metadata": {},
   "source": [
    "![DLI Header](../images/DLI_Header.png)"
   ]
  },
  {
   "cell_type": "markdown",
   "id": "004a356a-f90c-4b1b-a9d8-03568443670b",
   "metadata": {},
   "source": [
    "# Congratulations"
   ]
  },
  {
   "cell_type": "markdown",
   "id": "a664006e-f595-4feb-8051-84f50db66ddf",
   "metadata": {},
   "source": [
    "Congratulations on a day of hard work. We hope you enjoyed learning about how to build AI-based cybersecurity pipelines with NVIDIA Morpheus."
   ]
  },
  {
   "cell_type": "markdown",
   "id": "b6362ee7-26dd-4091-ac68-8850d5860381",
   "metadata": {},
   "source": [
    "## Workshop Survey"
   ]
  },
  {
   "cell_type": "markdown",
   "id": "299f927b-3b7e-4c29-a595-66889a0d6069",
   "metadata": {},
   "source": [
    "Please take 1 minute to complete [this short workshop survey](https://learn.next.courses.nvidia.com/courses/course-v1:DLI+C-DS-03+V1/courseware/85f2a3ac16a0476685257996b84001ad/bc52aa4cf90741f882e064ae76b114de/1?activate_block_id=block-v1%3ADLI%2BC-DS-03%2BV1%2Btype%40vertical%2Bblock%4065013095934d4c7ebc52e2bf066715e8)."
   ]
  },
  {
   "cell_type": "markdown",
   "id": "831630b5-01e9-4851-9406-a108a2adb96e",
   "metadata": {},
   "source": [
    "## Ongoing Access"
   ]
  },
  {
   "cell_type": "markdown",
   "id": "103b7d24-0c0f-412c-bfc8-3f11436912e1",
   "metadata": {},
   "source": [
    "As a reminder you will have ongoing access to these course materials, including the interactive environment. At your leisure, feel free to revisit [the course](https://learn.next.courses.nvidia.com/courses/course-v1:DLI+C-DS-03+V1/course/) and spin up the interactive environment to continue exploring."
   ]
  },
  {
   "cell_type": "markdown",
   "id": "eeda1f80-8efb-43c2-8aed-c645c80be0ed",
   "metadata": {},
   "source": [
    "## Additional Project"
   ]
  },
  {
   "cell_type": "markdown",
   "id": "b978ccb4-c9d6-403e-9e9b-803a003fb580",
   "metadata": {},
   "source": [
    "The Morpheus toolkit ships with an example workflow we did not work through today: [phishing detection](https://docs.nvidia.com/morpheus/prod_morpheus/example-workflows.html#run-nlp-pd-pipeline) using the NLP pipeline.\n",
    "\n",
    "This interactive environment has already loaded the model for this example workflow (`phishing-bert-onnx`) into Triton, and the data for the example workflow can be found in this section's `data` directory. At your leisure we highly recommend spinning this environment back up and working through the phishing detection example workflow as described in [the docs](https://docs.nvidia.com/morpheus/prod_morpheus/example-workflows.html#run-nlp-pd-pipeline)."
   ]
  },
  {
   "cell_type": "markdown",
   "id": "521addd0-87a5-4026-94f4-8ef9a554f898",
   "metadata": {},
   "source": [
    "## Phishing Detection"
   ]
  },
  {
   "cell_type": "code",
   "execution_count": null,
   "id": "97c63721-4a2c-4b77-bc9e-ab87bd2db9ee",
   "metadata": {},
   "outputs": [],
   "source": [
    "# Your work here"
   ]
  }
 ],
 "metadata": {
  "kernelspec": {
   "display_name": "Python 3 (ipykernel)",
   "language": "python",
   "name": "python3"
  },
  "language_info": {
   "codemirror_mode": {
    "name": "ipython",
    "version": 3
   },
   "file_extension": ".py",
   "mimetype": "text/x-python",
   "name": "python",
   "nbconvert_exporter": "python",
   "pygments_lexer": "ipython3",
   "version": "3.8.13"
  }
 },
 "nbformat": 4,
 "nbformat_minor": 5
}
