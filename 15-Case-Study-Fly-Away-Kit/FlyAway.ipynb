{
 "cells": [
  {
   "cell_type": "markdown",
   "id": "dcb85f23-25f2-4d68-8b41-42d662f60ac1",
   "metadata": {},
   "source": [
    "![DLI Logo](../images/DLI_Header.png)"
   ]
  },
  {
   "cell_type": "markdown",
   "id": "f9954eb8-ac8d-4b2b-aef0-1e1e8c093a81",
   "metadata": {},
   "source": [
    "# Case Study: Building a Next-generation Cyber Flyaway Kit"
   ]
  },
  {
   "cell_type": "markdown",
   "id": "f027bb01-13c4-4e01-a99a-5de864bddbd6",
   "metadata": {},
   "source": [
    "In this section we will take a look at how Booz Allen Hamilton has been working with NVIDIA to build the next generation AI-powered cybersecurity toolkit for use at the edge."
   ]
  },
  {
   "cell_type": "code",
   "execution_count": 1,
   "id": "63d0c8ea-b172-4ab2-8d6c-02dd2e745106",
   "metadata": {},
   "outputs": [
    {
     "data": {
      "text/html": [
       "<iframe src=\"https://view.officeapps.live.com/op/embed.aspx?src=https%3A%2F%2Fdeveloper%2Edownload%2Envidia%2Ecom%3A443%2Ftraining%2Fcourses%2FC%2DDS%2D03%2DV1%2Fflyaway%2Epptx\" width=\"610px\" height=\"367px\" frameborder=\"0\"></iframe>\n"
      ],
      "text/plain": [
       "<IPython.core.display.HTML object>"
      ]
     },
     "metadata": {},
     "output_type": "display_data"
    }
   ],
   "source": [
    "%%html\n",
    "<iframe src=\"https://view.officeapps.live.com/op/embed.aspx?src=https%3A%2F%2Fdeveloper%2Edownload%2Envidia%2Ecom%3A443%2Ftraining%2Fcourses%2FC%2DDS%2D03%2DV1%2Fflyaway%2Epptx\" width=\"610px\" height=\"367px\" frameborder=\"0\"></iframe>"
   ]
  },
  {
   "cell_type": "markdown",
   "id": "a2e18835-3cb8-4900-906e-7b5e888f507b",
   "metadata": {},
   "source": [
    "At a later time you might consider watching [this entire presentation](https://www.nvidia.com/en-us/on-demand/session/gtcfall20-a22438/) via GTC On-Demand."
   ]
  },
  {
   "cell_type": "markdown",
   "id": "e1b8c283-2147-43ab-8039-8c9a9b7295e1",
   "metadata": {},
   "source": [
    "## Next"
   ]
  },
  {
   "cell_type": "markdown",
   "id": "b610a999-0ccc-4e51-b2b7-b9cceffb0937",
   "metadata": {},
   "source": [
    "In the next section you will extend the power of Morpheus autoencoder pipelines by building pipelines that can train models and perform inference for arbitrary numbers of users.\n",
    "\n",
    "Please continue to the next notebook."
   ]
  }
 ],
 "metadata": {
  "kernelspec": {
   "display_name": "Python 3 (ipykernel)",
   "language": "python",
   "name": "python3"
  },
  "language_info": {
   "codemirror_mode": {
    "name": "ipython",
    "version": 3
   },
   "file_extension": ".py",
   "mimetype": "text/x-python",
   "name": "python",
   "nbconvert_exporter": "python",
   "pygments_lexer": "ipython3",
   "version": "3.8.13"
  }
 },
 "nbformat": 4,
 "nbformat_minor": 5
}
