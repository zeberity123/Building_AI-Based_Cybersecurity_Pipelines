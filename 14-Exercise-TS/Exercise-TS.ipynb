{
 "cells": [
  {
   "cell_type": "markdown",
   "id": "6e85713c-31aa-4e43-950a-d732549d2b0a",
   "metadata": {},
   "source": [
    "![DLI Header](../images/DLI_Header.png)"
   ]
  },
  {
   "cell_type": "markdown",
   "id": "b2117e37-bafa-4a7d-99f1-2c6f65f78db5",
   "metadata": {},
   "source": [
    "# Exercise: Perform Time Series Analysis"
   ]
  },
  {
   "cell_type": "markdown",
   "id": "91c7bf7f-4284-49b8-81d8-3bf99b3f0cde",
   "metadata": {},
   "source": [
    "Your task in this exercise is to perform time series analysis on the behavior of `user123` in addition to the creations and utilization of the user's digital fingerprint."
   ]
  },
  {
   "cell_type": "markdown",
   "id": "b0cfeb87-eb34-4cce-9df4-a14e7f838773",
   "metadata": {},
   "source": [
    "---"
   ]
  },
  {
   "cell_type": "markdown",
   "id": "15896780-c3c0-4c14-97e2-1f083d9bf2df",
   "metadata": {},
   "source": [
    "## Your Work Here"
   ]
  },
  {
   "cell_type": "markdown",
   "id": "4c46e4fe-611a-4e88-80e3-14103ffe6194",
   "metadata": {},
   "source": [
    "This pipeline already utilizes digital fingerprinting. Edit the pipeline to Analyze time series at a resolution of 1 minute, setting the z-score threshold to 8.0."
   ]
  },
  {
   "cell_type": "code",
   "execution_count": 2,
   "id": "a2d424c6-5a3d-4424-9e70-585e3c0b158b",
   "metadata": {
    "tags": []
   },
   "outputs": [
    {
     "name": "stdout",
     "output_type": "stream",
     "text": [
      "\u001b[32mConfiguring Pipeline via CLI\u001b[0m\n",
      "\u001b[33mC++ is disabled for AutoEncoder pipelines at this time.\u001b[0m\n",
      "\u001b[31mStarting pipeline via CLI... Ctrl+C to Quit\u001b[0m\n",
      "512\n"
     ]
    }
   ],
   "source": [
    "!morpheus run \\\n",
    "  --num_threads=1 \\\n",
    "  pipeline-ae \\\n",
    "    --userid_filter=\"user123\" \\\n",
    "    --userid_column_name=\"userIdentitysessionContextsessionIssueruserName\" \\\n",
    "  from-cloudtrail \\\n",
    "    --input_glob=\"data/input-data/*.csv\" \\\n",
    "  train-ae \\\n",
    "    --train_data_glob=\"data/training-data/*.csv\" \\\n",
    "    --seed 42 \\\n",
    "  preprocess \\\n",
    "  inf-pytorch \\\n",
    "  add-scores \\\n",
    "  timeseries \\\n",
    "    --resolution=1m \\\n",
    "    --zscore_threshold=8.0 \\\n",
    "  serialize \\\n",
    "  to-file \\\n",
    "    --filename=\"data/output/output.csv\" \\\n",
    "    --overwrite"
   ]
  },
  {
   "cell_type": "markdown",
   "id": "e0028ac4-81f0-4957-b80e-35cb6588c7ec",
   "metadata": {},
   "source": [
    "---"
   ]
  },
  {
   "cell_type": "markdown",
   "id": "7c994b15-ba61-4232-8a16-a8392bb6ae2b",
   "metadata": {},
   "source": [
    "## Examine the Output"
   ]
  },
  {
   "cell_type": "markdown",
   "id": "34a55ca9-05e7-4e8f-9829-b04e614d59aa",
   "metadata": {},
   "source": [
    "After successfully constructing and running the pipeline, assuming you saved the output of your pipeline to `data/output/output.csv`, use the following cells to examine the output data."
   ]
  },
  {
   "cell_type": "code",
   "execution_count": 3,
   "id": "4a21b96f-ca5f-49f5-80a0-c0e320840237",
   "metadata": {},
   "outputs": [],
   "source": [
    "import pandas as pd"
   ]
  },
  {
   "cell_type": "code",
   "execution_count": 4,
   "id": "c1df56ff-486c-4374-8fbb-cb7875b608c6",
   "metadata": {},
   "outputs": [],
   "source": [
    "output = pd.read_csv('data/output/output.csv')"
   ]
  },
  {
   "cell_type": "markdown",
   "id": "fc20b40b-bb1f-4f92-a99e-d89e193e2db0",
   "metadata": {},
   "source": [
    "Check how many unique values are in `ts_anomaly`. Since it is a boolean value, 2 means there are both True and False values."
   ]
  },
  {
   "cell_type": "code",
   "execution_count": 5,
   "id": "9a08aeb4",
   "metadata": {},
   "outputs": [
    {
     "data": {
      "text/plain": [
       "count       847\n",
       "unique        2\n",
       "top       False\n",
       "freq        535\n",
       "Name: ts_anomaly, dtype: object"
      ]
     },
     "execution_count": 5,
     "metadata": {},
     "output_type": "execute_result"
    }
   ],
   "source": [
    "output['ts_anomaly'].describe()"
   ]
  },
  {
   "cell_type": "markdown",
   "id": "0262ca3f-1a1f-4b12-9b60-1f7e5febed85",
   "metadata": {},
   "source": [
    "Get all values flagged as containing a time series anomaly."
   ]
  },
  {
   "cell_type": "code",
   "execution_count": 6,
   "id": "ee5f8cb6-7045-4b00-a493-d564f8162e66",
   "metadata": {},
   "outputs": [],
   "source": [
    "ts_anomaly = output[output['ts_anomaly'] == True]"
   ]
  },
  {
   "cell_type": "code",
   "execution_count": 7,
   "id": "439b6e91-8eed-48d1-a8ae-55846fca8351",
   "metadata": {},
   "outputs": [
    {
     "data": {
      "text/plain": [
       "(312, 21)"
      ]
     },
     "execution_count": 7,
     "metadata": {},
     "output_type": "execute_result"
    }
   ],
   "source": [
    "ts_anomaly.shape"
   ]
  },
  {
   "cell_type": "markdown",
   "id": "a83c92d1-178e-4861-9a16-d774848831dd",
   "metadata": {},
   "source": [
    "---"
   ]
  },
  {
   "cell_type": "markdown",
   "id": "89d7efb2-f7ec-43a0-bc16-dfd45b8aac52",
   "metadata": {},
   "source": [
    "## Solution"
   ]
  },
  {
   "cell_type": "markdown",
   "id": "ee210f71-f196-4d9d-becd-76fd37197c8d",
   "metadata": {
    "tags": []
   },
   "source": [
    "If you get stuck, click on the `...` directly below to expand the solution pipeline."
   ]
  },
  {
   "cell_type": "markdown",
   "id": "00668a2a-18fe-4b90-a2d8-5766bca4f403",
   "metadata": {
    "tags": []
   },
   "source": [
    "```sh\n",
    "morpheus run \\\n",
    "  --num_threads=1 \\\n",
    "  pipeline-ae \\\n",
    "    --userid_filter=\"user123\" \\\n",
    "    --userid_column_name=\"userIdentitysessionContextsessionIssueruserName\" \\\n",
    "  from-cloudtrail \\\n",
    "    --input_glob=\"data/input-data/*.csv\" \\\n",
    "  train-ae \\\n",
    "    --train_data_glob=\"data/training-data/*.csv\" \\\n",
    "    --seed 42 \\\n",
    "  preprocess \\\n",
    "  inf-pytorch \\\n",
    "  add-scores \\\n",
    "  timeseries \\\n",
    "    --resolution=1m \\\n",
    "    --zscore_threshold=8.0 \\\n",
    "  serialize \\\n",
    "  to-file \\\n",
    "    --filename=\"data/output/output.csv\" \\\n",
    "    --overwrite\n",
    "```"
   ]
  },
  {
   "cell_type": "markdown",
   "id": "f65d7a49-e19f-4c43-875a-65327cb860dc",
   "metadata": {},
   "source": [
    "---"
   ]
  },
  {
   "cell_type": "markdown",
   "id": "8c810605-0e05-4a62-b018-bdf77f991b32",
   "metadata": {},
   "source": [
    "## Next"
   ]
  },
  {
   "cell_type": "markdown",
   "id": "dbdf49dc-f3f1-41ed-975c-2ae27497744c",
   "metadata": {},
   "source": [
    "In the next section you take your second look at how Booz Allen Hamilton is using AI-based cybersecurity methods like the ones you've learned in this workshop to develop the next generation fly away kit for rapid, portable cyber security analysis in the field.\n",
    "\n",
    "Please continue to the next notebook."
   ]
  }
 ],
 "metadata": {
  "kernelspec": {
   "display_name": "Python 3 (ipykernel)",
   "language": "python",
   "name": "python3"
  },
  "language_info": {
   "codemirror_mode": {
    "name": "ipython",
    "version": 3
   },
   "file_extension": ".py",
   "mimetype": "text/x-python",
   "name": "python",
   "nbconvert_exporter": "python",
   "pygments_lexer": "ipython3",
   "version": "3.8.13"
  }
 },
 "nbformat": 4,
 "nbformat_minor": 5
}
