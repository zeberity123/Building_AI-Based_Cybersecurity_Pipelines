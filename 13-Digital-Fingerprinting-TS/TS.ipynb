{
 "cells": [
  {
   "cell_type": "markdown",
   "id": "6e85713c-31aa-4e43-950a-d732549d2b0a",
   "metadata": {},
   "source": [
    "![DLI Header](../images/DLI_Header.png)"
   ]
  },
  {
   "cell_type": "markdown",
   "id": "79a64b32-6af1-4859-82ae-a9d7e5e117e9",
   "metadata": {},
   "source": [
    "# Time Series Analysis in the Autoencoder Pipeline"
   ]
  },
  {
   "cell_type": "markdown",
   "id": "fa6b2eb5-3e8f-4d96-8fc5-6bff998c30cc",
   "metadata": {},
   "source": [
    "While the AE model provides a fantastic tool to describe whether incoming data has deviated from its established digital fingerprint, Morpheus goes even further and allows us to also perform time series analysis on incoming data. In this notebook you'll learn how to incorporate time series analysis into `pipeline-ae`."
   ]
  },
  {
   "cell_type": "markdown",
   "id": "0c92b8b0-6f50-42c2-931b-446dfc3f7a2a",
   "metadata": {},
   "source": [
    "## Objectives"
   ]
  },
  {
   "cell_type": "markdown",
   "id": "cdbd919d-246c-4094-ac7e-baf60c8496f5",
   "metadata": {},
   "source": [
    "By the time you complete this notebook you will:\n",
    "\n",
    "- Understand how time series analysis can provide insight in addition to the use of autoencoders.\n",
    "- Be able to perform time series analysis as part of `pipeline-ae`."
   ]
  },
  {
   "cell_type": "markdown",
   "id": "8c83de40-85b6-422b-b45d-998a79389ccd",
   "metadata": {},
   "source": [
    "---"
   ]
  },
  {
   "cell_type": "markdown",
   "id": "f495edbe-871d-42b2-99c4-d23c1e4b5acd",
   "metadata": {},
   "source": [
    "## Time Series Analysis Using Fast Fourier Transform (FFT)"
   ]
  },
  {
   "cell_type": "markdown",
   "id": "56e41049-cea6-4bf5-8c80-4a23a369b855",
   "metadata": {},
   "source": [
    "Machine application activity tends to oscillate over time, and attacker activities can be difficult to detect among the periodic noise in data with just a volumetric alert. To find subtle anomalies inside periodic data, you transform the data from the time domain to the frequency domain using [fast Fourier transformation](https://en.wikipedia.org/wiki/Fast_Fourier_transform) (FFT). You then reconstruct the signal back to the time domain with iFFT (inverse FFT) but use only the top 90% of frequencies. A large difference between the original signal and the reconstructed signal indicates the times at which the machine’s activity is unusual and potentially compromised by malicious human activity.\n",
    "\n",
    "Morpheus applies FFTs by learning what a normal period or periods of activity looks like for a given user/service and machine/service system interaction. After this, Morpheus performs decomposition quickly and applies a rolling z-score to the transformed data which we can use to flag periods that are anomalous."
   ]
  },
  {
   "cell_type": "markdown",
   "id": "9a96c1c6-5f17-4549-b0f0-cbcd741a0102",
   "metadata": {},
   "source": [
    "---"
   ]
  },
  {
   "cell_type": "markdown",
   "id": "72da508d-6b1c-417b-b063-30d193b3bb2f",
   "metadata": {},
   "source": [
    "## More on FFT"
   ]
  },
  {
   "cell_type": "markdown",
   "id": "57ec4a5a-476e-4cd7-9426-7ef76f695c5c",
   "metadata": {},
   "source": [
    "Understanding that FFT is a technique well-suited to spotting anomalous activity over a duration of time is sufficient to use it effectively in Morpheus pipelines, especially for the duration of this workshop. However, for those of you who would like a deeper intuition of how FFT works, consider watching [this 20 minute 3Blue1Brown video](https://www.youtube.com/watch?v=spUNpyF58BY&ab_channel=3Blue1Brown) at a later time."
   ]
  },
  {
   "cell_type": "markdown",
   "id": "d4d108b2-90cb-48e1-ba69-83f9558dcedc",
   "metadata": {},
   "source": [
    "---"
   ]
  },
  {
   "cell_type": "markdown",
   "id": "a9c45473-2641-4aa8-abcf-a8c9bf6b0df2",
   "metadata": {},
   "source": [
    "## Using Time Series in Morpheus"
   ]
  },
  {
   "cell_type": "markdown",
   "id": "81ab53c1-9b8f-49e8-af28-f0cbf73570ee",
   "metadata": {},
   "source": [
    "To perform time series anomaly detection in `pipeline-ae` we add the `timeseries` stage to the pipeline."
   ]
  },
  {
   "cell_type": "code",
   "execution_count": 1,
   "id": "e4eae160-e84d-4e5b-ab74-72d51da1e241",
   "metadata": {},
   "outputs": [
    {
     "name": "stdout",
     "output_type": "stream",
     "text": [
      "  timeseries       Perform time series anomaly detection and add prediction.\n"
     ]
    }
   ],
   "source": [
    "!morpheus run pipeline-ae --help | grep timeseries"
   ]
  },
  {
   "cell_type": "markdown",
   "id": "d3c4fd16-c25b-4600-89cf-276d1dcd72e8",
   "metadata": {},
   "source": [
    "We set `--resolution` to a time period we wish to bin data into, that is, the length of the periods of time we wish to determine as being anomalous or not."
   ]
  },
  {
   "cell_type": "code",
   "execution_count": 2,
   "id": "7057dd13-cddb-4ba9-8a42-7d1d2975e7ca",
   "metadata": {},
   "outputs": [
    {
     "name": "stdout",
     "output_type": "stream",
     "text": [
      "  --resolution TEXT               Time series resolution. Logs will be binned\n",
      "                                  into groups of this size. Uses the pandas\n",
      "                                  time delta format, i.e. '10m' for 10 minutes\n",
      "                                  [default: 1 h]\n"
     ]
    }
   ],
   "source": [
    "!morpheus run pipeline-ae timeseries --help | grep 'resolution' -A 3"
   ]
  },
  {
   "cell_type": "markdown",
   "id": "5a5572e9-27fe-46e4-ae14-2b36584aaed2",
   "metadata": {},
   "source": [
    "We also set `--zscore_threshold` to determine how many standard deviations a given period of time needs to deviate from the mean values in order to be identified as anomalous by Morpheus."
   ]
  },
  {
   "cell_type": "code",
   "execution_count": 3,
   "id": "b05c15d7-757f-4802-8edf-79ca60101aad",
   "metadata": {},
   "outputs": [
    {
     "name": "stdout",
     "output_type": "stream",
     "text": [
      "  --zscore_threshold FLOAT RANGE  The z-score threshold required to flag\n",
      "                                  datapoints. The value indicates the number\n",
      "                                  of standard deviations from the mean that is\n",
      "                                  required to be flagged. Increasing this\n",
      "                                  value will decrease the number of\n",
      "                                  detections.  [default: 8.0; x>=0.0;\n",
      "                                  required]\n"
     ]
    }
   ],
   "source": [
    "!morpheus run pipeline-ae timeseries --help | grep 'zscore_threshold' -A 6"
   ]
  },
  {
   "cell_type": "markdown",
   "id": "7b415f8a-4799-4613-9217-fc64947d1943",
   "metadata": {},
   "source": [
    "When using `timeseries` morpheus will add a new boolean column `ts_anomaly` indicating whether or not the time series stage identified anomalous behavior in the data."
   ]
  },
  {
   "cell_type": "markdown",
   "id": "021cc007-e46e-45f7-8b25-f967a9acfd48",
   "metadata": {},
   "source": [
    "---"
   ]
  },
  {
   "cell_type": "markdown",
   "id": "e2ec91c2-28af-49cb-89b7-e5263717f64d",
   "metadata": {},
   "source": [
    "## Run the Pipeline with Time Series Analysis"
   ]
  },
  {
   "cell_type": "markdown",
   "id": "49378980-c31b-435c-8b42-a9759f954548",
   "metadata": {},
   "source": [
    "Below is the same pipeline we used when learning how to train and perform inference with autoencoders, only now it includes a `timeseries` stage with the configurations described above."
   ]
  },
  {
   "cell_type": "code",
   "execution_count": 4,
   "id": "c5a145e0-311c-4014-94d7-77898822a79b",
   "metadata": {},
   "outputs": [
    {
     "name": "stdout",
     "output_type": "stream",
     "text": [
      "\u001b[32mConfiguring Pipeline via CLI\u001b[0m\n",
      "\u001b[33mC++ is disabled for AutoEncoder pipelines at this time.\u001b[0m\n",
      "\u001b[31mStarting pipeline via CLI... Ctrl+C to Quit\u001b[0m\n",
      "512\n"
     ]
    }
   ],
   "source": [
    "!morpheus run \\\n",
    "  --num_threads=1 \\\n",
    "  pipeline-ae \\\n",
    "    --userid_filter=\"role-g\" \\\n",
    "    --userid_column_name=\"userIdentitysessionContextsessionIssueruserName\" \\\n",
    "  from-cloudtrail \\\n",
    "    --input_glob=\"data/input-data/*.csv\" \\\n",
    "  train-ae \\\n",
    "    --train_data_glob=\"data/training-data/*.csv\" \\\n",
    "    --seed 42 \\\n",
    "  preprocess \\\n",
    "  inf-pytorch \\\n",
    "  add-scores \\\n",
    "  timeseries \\\n",
    "    --resolution=10m \\\n",
    "    --zscore_threshold=8.0 \\\n",
    "  serialize \\\n",
    "  to-file \\\n",
    "    --filename=\"data/output/output.csv\" \\\n",
    "    --overwrite"
   ]
  },
  {
   "cell_type": "markdown",
   "id": "e85aa645-70e0-43d0-981f-7541e436c66d",
   "metadata": {},
   "source": [
    "---"
   ]
  },
  {
   "cell_type": "markdown",
   "id": "a20ac814-9e84-4796-80ca-6621471c449c",
   "metadata": {},
   "source": [
    "## Explore the Results"
   ]
  },
  {
   "cell_type": "code",
   "execution_count": 5,
   "id": "4a21b96f-ca5f-49f5-80a0-c0e320840237",
   "metadata": {},
   "outputs": [],
   "source": [
    "import pandas as pd"
   ]
  },
  {
   "cell_type": "code",
   "execution_count": 6,
   "id": "c1df56ff-486c-4374-8fbb-cb7875b608c6",
   "metadata": {},
   "outputs": [],
   "source": [
    "output = pd.read_csv('data/output/output.csv')"
   ]
  },
  {
   "cell_type": "markdown",
   "id": "27fd4b4c-943a-48ec-b5ce-17ed0760208c",
   "metadata": {},
   "source": [
    "Note the new boolean column `ts_anomaly` created by the pipeline. The value of this column will indicate whether or not the data exceeded the set z-score threshold when passed through the time series analysis."
   ]
  },
  {
   "cell_type": "code",
   "execution_count": 7,
   "id": "e1ab3939-59a1-482a-b165-1c4b9b358e71",
   "metadata": {},
   "outputs": [
    {
     "data": {
      "text/plain": [
       "Unnamed: 0                                           int64\n",
       "_index_                                              int64\n",
       "eventID                                              int64\n",
       "eventTime                                           object\n",
       "userIdentityaccountId                               object\n",
       "eventSource                                         object\n",
       "eventName                                           object\n",
       "sourceIPAddress                                     object\n",
       "userAgent                                           object\n",
       "userIdentitytype                                    object\n",
       "apiVersion                                          object\n",
       "userIdentityprincipalId                             object\n",
       "userIdentityarn                                     object\n",
       "userIdentityaccessKeyId                             object\n",
       "userIdentitysessionContextsessionIssueruserName     object\n",
       "errorCode                                           object\n",
       "errorMessage                                        object\n",
       "tlsDetailsclientProvidedHostHeader                 float64\n",
       "event_dt                                            object\n",
       "ae_anomaly_score                                   float64\n",
       "ts_anomaly                                            bool\n",
       "dtype: object"
      ]
     },
     "execution_count": 7,
     "metadata": {},
     "output_type": "execute_result"
    }
   ],
   "source": [
    "output.dtypes"
   ]
  },
  {
   "cell_type": "code",
   "execution_count": 8,
   "id": "eaba4a6a-7487-4f45-843e-3e258db72922",
   "metadata": {},
   "outputs": [
    {
     "data": {
      "text/plain": [
       "count       314\n",
       "unique        1\n",
       "top       False\n",
       "freq        314\n",
       "Name: ts_anomaly, dtype: object"
      ]
     },
     "execution_count": 8,
     "metadata": {},
     "output_type": "execute_result"
    }
   ],
   "source": [
    "output['ts_anomaly'].describe()"
   ]
  },
  {
   "cell_type": "markdown",
   "id": "102b0f08-b97c-4db9-8703-9ba62d3e78d3",
   "metadata": {},
   "source": [
    "It would appear that for the data associated with `role-g` that we ran through the pipeline that there was no time series anomalies identified by the pipeline."
   ]
  },
  {
   "cell_type": "markdown",
   "id": "79a064fd-7d02-48d4-ace6-98dac65d792e",
   "metadata": {},
   "source": [
    "---"
   ]
  },
  {
   "cell_type": "markdown",
   "id": "eb626a8f-f0e1-4b5e-b822-b4c0de1d3feb",
   "metadata": {},
   "source": [
    "## Next"
   ]
  },
  {
   "cell_type": "markdown",
   "id": "4e55c764-a73e-4159-ab77-57dc68b8f844",
   "metadata": {},
   "source": [
    "Now that you are familiar with using the `timeseries` stage as a part of `pipeline-ae`, you will perform time series analysis yourself in the next exercise to try and identify anomalous periods of user activity.\n",
    "\n",
    "Please continue to the next notebook."
   ]
  }
 ],
 "metadata": {
  "kernelspec": {
   "display_name": "Python 3 (ipykernel)",
   "language": "python",
   "name": "python3"
  },
  "language_info": {
   "codemirror_mode": {
    "name": "ipython",
    "version": 3
   },
   "file_extension": ".py",
   "mimetype": "text/x-python",
   "name": "python",
   "nbconvert_exporter": "python",
   "pygments_lexer": "ipython3",
   "version": "3.8.13"
  }
 },
 "nbformat": 4,
 "nbformat_minor": 5
}
