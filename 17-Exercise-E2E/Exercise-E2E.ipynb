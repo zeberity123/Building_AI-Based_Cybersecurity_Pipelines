{
 "cells": [
  {
   "cell_type": "markdown",
   "id": "6e85713c-31aa-4e43-950a-d732549d2b0a",
   "metadata": {},
   "source": [
    "![DLI Header](../images/DLI_Header.png)"
   ]
  },
  {
   "cell_type": "markdown",
   "id": "b2117e37-bafa-4a7d-99f1-2c6f65f78db5",
   "metadata": {},
   "source": [
    "# Exercise: End to End Pipeline"
   ]
  },
  {
   "cell_type": "markdown",
   "id": "6117b79b-7063-401e-972d-eb81f9f404c2",
   "metadata": {},
   "source": [
    "Your task in this final exercise is to create pipelines to perform digital fingerprinting and time series analysis, and to eventually identify a user exhibiting anomalous behavior compared to their typical patterns of behavior."
   ]
  },
  {
   "cell_type": "markdown",
   "id": "2e41b856-2b12-4e3f-81fc-92bd041f7018",
   "metadata": {},
   "source": [
    "## Guidelines"
   ]
  },
  {
   "cell_type": "markdown",
   "id": "eb6beef6-fa69-4900-b1a9-7f52c9995ca1",
   "metadata": {},
   "source": [
    "Using all data provided in the data/training-data directory, which provides data for periods of time where the behaviors for 20 different users were typical, your pipeline should train an autoencoder for each unique user found there.\n",
    "\n",
    "Inference should be performed on all data within the data/input-data directory, which contains input data for the same 20 users represented in the data/training-data directory.\n",
    "\n",
    "In addition to autoencoder-based digital fingerprinting, your pipeline should also perform time series analysis on all incoming data, looking for time series anomalies over each 10 minute period of time."
   ]
  },
  {
   "cell_type": "markdown",
   "id": "aa0df60e-3c30-4f74-80f9-356e645d767b",
   "metadata": {},
   "source": [
    "## Completing the Course Assessment"
   ]
  },
  {
   "cell_type": "markdown",
   "id": "9210a5d0-a699-45b3-8284-db3afb8d4694",
   "metadata": {},
   "source": [
    "Before you begin your work, please open and read [the course assessment questions](https://courses.nvidia.com/courses/course-v1:DLI+C-DS-03+V1/courseware/85f2a3ac16a0476685257996b84001ad/9ef2f68fb10d40c5b54b783392938d04/2?activate_block_id=block-v1%3ADLI%2BC-DS-03%2BV1%2Btype%40vertical%2Bblock%40674c42f0c40a4956971946f596a0ff78), which should guide your work.\n",
    "\n",
    "After you have successfully answered each of the assessment questions, you will be qualified to [generate a certificate of competency](https://courses.nvidia.com/courses/course-v1:DLI+C-DS-03+V1/progress) for the workshop."
   ]
  },
  {
   "cell_type": "markdown",
   "id": "87b6e9c4-9b8f-42a5-a1ce-e9cc592a032d",
   "metadata": {},
   "source": [
    "## Continuing Your Work at a Later Time"
   ]
  },
  {
   "cell_type": "markdown",
   "id": "07a33311-ee92-44f5-bbee-66bc2a7cd113",
   "metadata": {},
   "source": [
    "If you are unable to complete the assessment during the allotted time for the workshop, you may return at a later time to this interactive environment to work on it further at your leisure. If you wish to save any work done in this notebook, please use the JupyterLab _File_ menu and select _Download_ to download this notebook, containing your work. When you restart the interactive environment at a later time, you can upload the notebook by dragging and dropping it into the JupyterLab file viewer and resume work on it."
   ]
  },
  {
   "cell_type": "markdown",
   "id": "b0cfeb87-eb34-4cce-9df4-a14e7f838773",
   "metadata": {},
   "source": [
    "---"
   ]
  },
  {
   "cell_type": "markdown",
   "id": "15896780-c3c0-4c14-97e2-1f083d9bf2df",
   "metadata": {},
   "source": [
    "## Your Work Here"
   ]
  },
  {
   "cell_type": "markdown",
   "id": "e2af31aa-e21d-4409-a6ef-8208063f2514",
   "metadata": {},
   "source": [
    "Should you wish, feel free also to open a JupyterLab terminal within which to run your pipelines."
   ]
  },
  {
   "cell_type": "code",
   "execution_count": 1,
   "id": "a2d424c6-5a3d-4424-9e70-585e3c0b158b",
   "metadata": {
    "tags": []
   },
   "outputs": [
    {
     "name": "stdout",
     "output_type": "stream",
     "text": [
      "\u001b[32mConfiguring Pipeline via CLI\u001b[0m\n",
      "\u001b[33mC++ is disabled for AutoEncoder pipelines at this time.\u001b[0m\n",
      "\u001b[2mLoaded columns. Current columns: [['apiVersion', 'errorCode', 'errorMessage', 'eventName', 'eventSource', 'sourceIPAddress', 'tlsDetailsclientProvidedHostHeader', 'userAgent', 'userIdentityaccessKeyId', 'userIdentityaccountId', 'userIdentityarn', 'userIdentityprincipalId', 'userIdentitysessionContextsessionIssueruserName']]\u001b[0m\n",
      "\u001b[31mStarting pipeline via CLI... Ctrl+C to Quit\u001b[0m\n",
      "Config: \n",
      "{\n",
      "  \"ae\": {\n",
      "    \"feature_columns\": [\n",
      "      \"apiVersion\",\n",
      "      \"errorCode\",\n",
      "      \"errorMessage\",\n",
      "      \"eventName\",\n",
      "      \"eventSource\",\n",
      "      \"sourceIPAddress\",\n",
      "      \"tlsDetailsclientProvidedHostHeader\",\n",
      "      \"userAgent\",\n",
      "      \"userIdentityaccessKeyId\",\n",
      "      \"userIdentityaccountId\",\n",
      "      \"userIdentityarn\",\n",
      "      \"userIdentityprincipalId\",\n",
      "      \"userIdentitysessionContextsessionIssueruserName\"\n",
      "    ],\n",
      "    \"userid_column_name\": \"userIdentitysessionContextsessionIssueruserName\",\n",
      "    \"userid_filter\": null\n",
      "  },\n",
      "  \"class_labels\": [\n",
      "    \"ae_anomaly_score\"\n",
      "  ],\n",
      "  \"debug\": false,\n",
      "  \"edge_buffer_size\": 128,\n",
      "  \"feature_length\": 256,\n",
      "  \"fil\": null,\n",
      "  \"log_config_file\": null,\n",
      "  \"log_level\": 10,\n",
      "  \"mode\": \"AE\",\n",
      "  \"model_max_batch_size\": 8,\n",
      "  \"num_threads\": 1,\n",
      "  \"pipeline_batch_size\": 256\n",
      "}\u001b[0m\n",
      "CPP Enabled: False\u001b[0m\n",
      "====Registering Pipeline====\u001b[0m\n",
      "====Registering Pipeline Complete!====\u001b[0m\n",
      "====Starting Pipeline====\u001b[0m\n",
      "====Building Pipeline====\u001b[0m\n",
      "Added source: <from-cloudtrail-0; CloudTrailSourceStage(input_glob=data/input-data/*.csv, watch_directory=False, max_files=-1, file_type=FileTypes.Auto, repeat=1, sort_glob=False)>\n",
      "  └─> morpheus.UserMessageMeta\u001b[0m\n",
      "\u001b[2mTraining AE model for user: 'user7'...\u001b[0m\n",
      "512\n",
      "\u001b[2mTraining AE model for user: 'user7'... Complete.\u001b[0m\n",
      "\u001b[2mTraining AE model for user: 'user5'...\u001b[0m\n",
      "512\n",
      "\u001b[2mTraining AE model for user: 'user5'... Complete.\u001b[0m\n",
      "\u001b[2mTraining AE model for user: 'user1'...\u001b[0m\n",
      "512\n",
      "\u001b[2mTraining AE model for user: 'user1'... Complete.\u001b[0m\n",
      "\u001b[2mTraining AE model for user: 'user11'...\u001b[0m\n",
      "512\n",
      "\u001b[2mTraining AE model for user: 'user11'... Complete.\u001b[0m\n",
      "\u001b[2mTraining AE model for user: 'user12'...\u001b[0m\n",
      "512\n",
      "\u001b[2mTraining AE model for user: 'user12'... Complete.\u001b[0m\n",
      "\u001b[2mTraining AE model for user: 'user19'...\u001b[0m\n",
      "512\n",
      "\u001b[2mTraining AE model for user: 'user19'... Complete.\u001b[0m\n",
      "\u001b[2mTraining AE model for user: 'user9'...\u001b[0m\n",
      "512\n",
      "\u001b[2mTraining AE model for user: 'user9'... Complete.\u001b[0m\n",
      "\u001b[2mTraining AE model for user: 'user17'...\u001b[0m\n",
      "512\n",
      "\u001b[2mTraining AE model for user: 'user17'... Complete.\u001b[0m\n",
      "\u001b[2mTraining AE model for user: 'user13'...\u001b[0m\n",
      "512\n",
      "\u001b[2mTraining AE model for user: 'user13'... Complete.\u001b[0m\n",
      "\u001b[2mTraining AE model for user: 'user3'...\u001b[0m\n",
      "512\n",
      "\u001b[2mTraining AE model for user: 'user3'... Complete.\u001b[0m\n",
      "\u001b[2mTraining AE model for user: 'user8'...\u001b[0m\n",
      "512\n",
      "\u001b[2mTraining AE model for user: 'user8'... Complete.\u001b[0m\n",
      "\u001b[2mTraining AE model for user: 'user18'...\u001b[0m\n",
      "512\n",
      "\u001b[2mTraining AE model for user: 'user18'... Complete.\u001b[0m\n",
      "\u001b[2mTraining AE model for user: 'user6'...\u001b[0m\n",
      "512\n",
      "\u001b[2mTraining AE model for user: 'user6'... Complete.\u001b[0m\n",
      "\u001b[2mTraining AE model for user: 'user16'...\u001b[0m\n",
      "512\n",
      "\u001b[2mTraining AE model for user: 'user16'... Complete.\u001b[0m\n",
      "\u001b[2mTraining AE model for user: 'user15'...\u001b[0m\n",
      "512\n",
      "\u001b[2mTraining AE model for user: 'user15'... Complete.\u001b[0m\n",
      "\u001b[2mTraining AE model for user: 'user2'...\u001b[0m\n",
      "512\n",
      "\u001b[2mTraining AE model for user: 'user2'... Complete.\u001b[0m\n",
      "\u001b[2mTraining AE model for user: 'user14'...\u001b[0m\n",
      "512\n",
      "\u001b[2mTraining AE model for user: 'user14'... Complete.\u001b[0m\n",
      "\u001b[2mTraining AE model for user: 'user10'...\u001b[0m\n",
      "512\n",
      "\u001b[2mTraining AE model for user: 'user10'... Complete.\u001b[0m\n",
      "\u001b[2mTraining AE model for user: 'user20'...\u001b[0m\n",
      "512\n",
      "\u001b[2mTraining AE model for user: 'user20'... Complete.\u001b[0m\n",
      "\u001b[2mTraining AE model for user: 'user4'...\u001b[0m\n",
      "512\n",
      "\u001b[2mTraining AE model for user: 'user4'... Complete.\u001b[0m\n",
      "Added stage: <train-ae-1; TrainAEStage(pretrained_filename=None, train_data_glob=data/training-data/*.csv, train_epochs=25, train_max_history=1000, seed=42, sort_glob=False)>\n",
      "  └─ morpheus.UserMessageMeta -> morpheus.MultiAEMessage\u001b[0m\n",
      "Added stage: <preprocess-ae-2; PreprocessAEStage()>\n",
      "  └─ morpheus.MultiAEMessage -> morpheus.MultiInferenceAEMessage\u001b[0m\n",
      "Added stage: <inference-3; AutoEncoderInferenceStage()>\n",
      "  └─ morpheus.MultiInferenceAEMessage -> morpheus.MultiResponseProbsMessage\u001b[0m\n",
      "Added stage: <add-scores-4; AddScoresStage(labels=[], prefix=)>\n",
      "  └─ morpheus.MultiResponseProbsMessage -> morpheus.MultiResponseProbsMessage\u001b[0m\n",
      "Added stage: <timeseries-5; TimeSeriesStage(resolution=10m, min_window=12 h, hot_start=False, cold_end=False, filter_percent=90.0, zscore_threshold=10.0)>\n",
      "  └─ morpheus.MultiResponseProbsMessage -> morpheus.MultiResponseProbsMessage\u001b[0m\n",
      "Added stage: <serialize-6; SerializeStage(include=[], exclude=['^ID$', '^_ts_'], fixed_columns=True)>\n",
      "  └─ morpheus.MultiResponseProbsMessage -> morpheus.MessageMeta\u001b[0m\n",
      "Added stage: <to-file-7; WriteToFileStage(filename=data/output/output.csv, overwrite=True, file_type=FileTypes.Auto)>\n",
      "  └─ morpheus.MessageMeta -> morpheus.MessageMeta\u001b[0m\n",
      "====Building Pipeline Complete!====\u001b[0m\n",
      "\u001b[2mStarting! Time: 1712299747.9359117\u001b[0m\n",
      "====Pipeline Started====\u001b[0m\n",
      "Found 20 CloudTrail files in glob. Loading...\u001b[0m\n",
      "\u001b[2mCloudTrail loading complete. Total rows: 6813. Timespan: \n",
      "0   7 days 12:08:20\n",
      "0   7 days 12:08:20\n",
      "0   7 days 12:08:20\n",
      "0   7 days 12:08:20\n",
      "0   7 days 12:08:20\n",
      "0   7 days 12:08:20\n",
      "0   7 days 12:08:20\n",
      "0   7 days 12:08:20\n",
      "0   7 days 12:08:20\n",
      "0   7 days 12:08:20\n",
      "0   7 days 12:08:20\n",
      "0   7 days 12:08:20\n",
      "0   7 days 12:08:20\n",
      "0   7 days 12:08:20\n",
      "0   7 days 12:08:20\n",
      "0   7 days 12:08:20\n",
      "0   7 days 12:08:20\n",
      "0   7 days 12:08:20\n",
      "0   7 days 12:08:20\n",
      "0   4 days 14:59:18\n",
      "Name: event_dt, dtype: timedelta64[ns]\u001b[0m\n",
      "\u001b[2mFound anomalies: [Timestamp('2021-10-06 18:00:00+0000', tz='UTC')]\u001b[0m\n",
      "\u001b[2mFound anomalies: [Timestamp('2021-10-06 18:00:00+0000', tz='UTC')]\u001b[0m\n",
      "\u001b[2mFound anomalies (Shutdown): [Timestamp('2021-10-08 00:40:00+0000', tz='UTC')]\u001b[0m\n",
      "====Pipeline Complete====\u001b[0m\n"
     ]
    }
   ],
   "source": [
    "!morpheus --log_level=DEBUG run \\\n",
    "    --num_threads=1 \\\n",
    "  pipeline-ae \\\n",
    "    --userid_column_name=\"userIdentitysessionContextsessionIssueruserName\" \\\n",
    "  from-cloudtrail \\\n",
    "    --input_glob=\"data/input-data/*.csv\" \\\n",
    "  train-ae \\\n",
    "    --train_data_glob=\"data/training-data/*.csv\" \\\n",
    "    --seed 42 \\\n",
    "  preprocess \\\n",
    "  inf-pytorch \\\n",
    "  add-scores \\\n",
    "  timeseries \\\n",
    "    --resolution=10m \\\n",
    "    --zscore_threshold=10.0 \\\n",
    "  serialize \\\n",
    "  to-file \\\n",
    "    --filename=\"data/output/output.csv\" \\\n",
    "    --overwrite"
   ]
  },
  {
   "cell_type": "code",
   "execution_count": 2,
   "id": "a023758a-550d-471c-8326-fcb183aab6df",
   "metadata": {},
   "outputs": [
    {
     "name": "stdout",
     "output_type": "stream",
     "text": [
      "20\n"
     ]
    }
   ],
   "source": [
    "import pandas as pd\n",
    "output = pd.read_csv('data/output/output.csv')\n",
    "unique_users = output['userIdentitysessionContextsessionIssueruserName'].unique()\n",
    "print(len(unique_users))"
   ]
  },
  {
   "cell_type": "code",
   "execution_count": 3,
   "id": "c8328cf9-a13b-42ae-b06c-fb93849a9ba8",
   "metadata": {},
   "outputs": [],
   "source": [
    "# `unique_users` was defined above.\n",
    "for user in unique_users:\n",
    "    anomaly_score = output['ae_anomaly_score']\n",
    "    \n",
    "    # Match rows for this user.\n",
    "    is_user = output['userIdentitysessionContextsessionIssueruserName'] == user\n",
    "    \n",
    "    # Mean for this user's anomaly scores.\n",
    "    user_anomaly_score_mean = output[is_user]['ae_anomaly_score'].mean()\n",
    "    \n",
    "    # Standard deviation for this user's anomaly scores.\n",
    "    user_anomaly_score_std = output[is_user]['ae_anomaly_score'].std()\n",
    "    \n",
    "    # Create zscores for this user.\n",
    "    output.loc[is_user, ['zscore']] = ( anomaly_score - user_anomaly_score_mean ) / user_anomaly_score_std"
   ]
  },
  {
   "cell_type": "code",
   "execution_count": 4,
   "id": "33d44e85-9400-436b-b4d8-fd11249575bb",
   "metadata": {},
   "outputs": [
    {
     "ename": "KeyError",
     "evalue": "'zscore'",
     "output_type": "error",
     "traceback": [
      "\u001b[0;31m---------------------------------------------------------------------------\u001b[0m",
      "\u001b[0;31mKeyError\u001b[0m                                  Traceback (most recent call last)",
      "File \u001b[0;32m/opt/conda/envs/morpheus/lib/python3.8/site-packages/pandas/core/indexes/base.py:3361\u001b[0m, in \u001b[0;36mIndex.get_loc\u001b[0;34m(self, key, method, tolerance)\u001b[0m\n\u001b[1;32m   3360\u001b[0m \u001b[38;5;28;01mtry\u001b[39;00m:\n\u001b[0;32m-> 3361\u001b[0m     \u001b[38;5;28;01mreturn\u001b[39;00m \u001b[38;5;28;43mself\u001b[39;49m\u001b[38;5;241;43m.\u001b[39;49m\u001b[43m_engine\u001b[49m\u001b[38;5;241;43m.\u001b[39;49m\u001b[43mget_loc\u001b[49m\u001b[43m(\u001b[49m\u001b[43mcasted_key\u001b[49m\u001b[43m)\u001b[49m\n\u001b[1;32m   3362\u001b[0m \u001b[38;5;28;01mexcept\u001b[39;00m \u001b[38;5;167;01mKeyError\u001b[39;00m \u001b[38;5;28;01mas\u001b[39;00m err:\n",
      "File \u001b[0;32m/opt/conda/envs/morpheus/lib/python3.8/site-packages/pandas/_libs/index.pyx:76\u001b[0m, in \u001b[0;36mpandas._libs.index.IndexEngine.get_loc\u001b[0;34m()\u001b[0m\n",
      "File \u001b[0;32m/opt/conda/envs/morpheus/lib/python3.8/site-packages/pandas/_libs/index.pyx:108\u001b[0m, in \u001b[0;36mpandas._libs.index.IndexEngine.get_loc\u001b[0;34m()\u001b[0m\n",
      "File \u001b[0;32mpandas/_libs/hashtable_class_helper.pxi:5198\u001b[0m, in \u001b[0;36mpandas._libs.hashtable.PyObjectHashTable.get_item\u001b[0;34m()\u001b[0m\n",
      "File \u001b[0;32mpandas/_libs/hashtable_class_helper.pxi:5206\u001b[0m, in \u001b[0;36mpandas._libs.hashtable.PyObjectHashTable.get_item\u001b[0;34m()\u001b[0m\n",
      "\u001b[0;31mKeyError\u001b[0m: 'zscore'",
      "\nThe above exception was the direct cause of the following exception:\n",
      "\u001b[0;31mKeyError\u001b[0m                                  Traceback (most recent call last)",
      "Input \u001b[0;32mIn [4]\u001b[0m, in \u001b[0;36m<cell line: 5>\u001b[0;34m()\u001b[0m\n\u001b[1;32m      2\u001b[0m zscore_threshold \u001b[38;5;241m=\u001b[39m \u001b[38;5;241m5\u001b[39m\n\u001b[1;32m      4\u001b[0m \u001b[38;5;66;03m# Get all z-scores higher than threshold.\u001b[39;00m\n\u001b[0;32m----> 5\u001b[0m high_zscore \u001b[38;5;241m=\u001b[39m \u001b[43moutput\u001b[49m\u001b[43m[\u001b[49m\u001b[38;5;124;43m'\u001b[39;49m\u001b[38;5;124;43mzscore\u001b[39;49m\u001b[38;5;124;43m'\u001b[39;49m\u001b[43m]\u001b[49m \u001b[38;5;241m>\u001b[39m zscore_threshold\n\u001b[1;32m      7\u001b[0m \u001b[38;5;66;03m# Get z-score and user name for all z-scores exceeding high z-score threshold.\u001b[39;00m\n\u001b[1;32m      8\u001b[0m high_zscores_names \u001b[38;5;241m=\u001b[39m output[high_zscore][[\u001b[38;5;124m'\u001b[39m\u001b[38;5;124mzscore\u001b[39m\u001b[38;5;124m'\u001b[39m, \u001b[38;5;124m'\u001b[39m\u001b[38;5;124muserIdentitysessionContextsessionIssueruserName\u001b[39m\u001b[38;5;124m'\u001b[39m]]\n",
      "File \u001b[0;32m/opt/conda/envs/morpheus/lib/python3.8/site-packages/pandas/core/frame.py:3458\u001b[0m, in \u001b[0;36mDataFrame.__getitem__\u001b[0;34m(self, key)\u001b[0m\n\u001b[1;32m   3456\u001b[0m \u001b[38;5;28;01mif\u001b[39;00m \u001b[38;5;28mself\u001b[39m\u001b[38;5;241m.\u001b[39mcolumns\u001b[38;5;241m.\u001b[39mnlevels \u001b[38;5;241m>\u001b[39m \u001b[38;5;241m1\u001b[39m:\n\u001b[1;32m   3457\u001b[0m     \u001b[38;5;28;01mreturn\u001b[39;00m \u001b[38;5;28mself\u001b[39m\u001b[38;5;241m.\u001b[39m_getitem_multilevel(key)\n\u001b[0;32m-> 3458\u001b[0m indexer \u001b[38;5;241m=\u001b[39m \u001b[38;5;28;43mself\u001b[39;49m\u001b[38;5;241;43m.\u001b[39;49m\u001b[43mcolumns\u001b[49m\u001b[38;5;241;43m.\u001b[39;49m\u001b[43mget_loc\u001b[49m\u001b[43m(\u001b[49m\u001b[43mkey\u001b[49m\u001b[43m)\u001b[49m\n\u001b[1;32m   3459\u001b[0m \u001b[38;5;28;01mif\u001b[39;00m is_integer(indexer):\n\u001b[1;32m   3460\u001b[0m     indexer \u001b[38;5;241m=\u001b[39m [indexer]\n",
      "File \u001b[0;32m/opt/conda/envs/morpheus/lib/python3.8/site-packages/pandas/core/indexes/base.py:3363\u001b[0m, in \u001b[0;36mIndex.get_loc\u001b[0;34m(self, key, method, tolerance)\u001b[0m\n\u001b[1;32m   3361\u001b[0m         \u001b[38;5;28;01mreturn\u001b[39;00m \u001b[38;5;28mself\u001b[39m\u001b[38;5;241m.\u001b[39m_engine\u001b[38;5;241m.\u001b[39mget_loc(casted_key)\n\u001b[1;32m   3362\u001b[0m     \u001b[38;5;28;01mexcept\u001b[39;00m \u001b[38;5;167;01mKeyError\u001b[39;00m \u001b[38;5;28;01mas\u001b[39;00m err:\n\u001b[0;32m-> 3363\u001b[0m         \u001b[38;5;28;01mraise\u001b[39;00m \u001b[38;5;167;01mKeyError\u001b[39;00m(key) \u001b[38;5;28;01mfrom\u001b[39;00m \u001b[38;5;21;01merr\u001b[39;00m\n\u001b[1;32m   3365\u001b[0m \u001b[38;5;28;01mif\u001b[39;00m is_scalar(key) \u001b[38;5;129;01mand\u001b[39;00m isna(key) \u001b[38;5;129;01mand\u001b[39;00m \u001b[38;5;129;01mnot\u001b[39;00m \u001b[38;5;28mself\u001b[39m\u001b[38;5;241m.\u001b[39mhasnans:\n\u001b[1;32m   3366\u001b[0m     \u001b[38;5;28;01mraise\u001b[39;00m \u001b[38;5;167;01mKeyError\u001b[39;00m(key)\n",
      "\u001b[0;31mKeyError\u001b[0m: 'zscore'"
     ]
    }
   ],
   "source": [
    "# Set threshold for a high z-score.\n",
    "zscore_threshold = 5\n",
    "\n",
    "# Get all z-scores higher than threshold.\n",
    "high_zscore = output['zscore'] > zscore_threshold\n",
    "\n",
    "# Get z-score and user name for all z-scores exceeding high z-score threshold.\n",
    "high_zscores_names = output[high_zscore][['zscore', 'userIdentitysessionContextsessionIssueruserName']]"
   ]
  },
  {
   "cell_type": "code",
   "execution_count": 5,
   "id": "6602bbab-30dd-4939-b744-9d2456bcf0e1",
   "metadata": {},
   "outputs": [
    {
     "data": {
      "text/html": [
       "<div>\n",
       "<style scoped>\n",
       "    .dataframe tbody tr th:only-of-type {\n",
       "        vertical-align: middle;\n",
       "    }\n",
       "\n",
       "    .dataframe tbody tr th {\n",
       "        vertical-align: top;\n",
       "    }\n",
       "\n",
       "    .dataframe thead th {\n",
       "        text-align: right;\n",
       "    }\n",
       "</style>\n",
       "<table border=\"1\" class=\"dataframe\">\n",
       "  <thead>\n",
       "    <tr style=\"text-align: right;\">\n",
       "      <th></th>\n",
       "      <th>zscore</th>\n",
       "      <th>userIdentitysessionContextsessionIssueruserName</th>\n",
       "    </tr>\n",
       "  </thead>\n",
       "  <tbody>\n",
       "    <tr>\n",
       "      <th>6281</th>\n",
       "      <td>5.896379</td>\n",
       "      <td>user17</td>\n",
       "    </tr>\n",
       "  </tbody>\n",
       "</table>\n",
       "</div>"
      ],
      "text/plain": [
       "        zscore userIdentitysessionContextsessionIssueruserName\n",
       "6281  5.896379                                          user17"
      ]
     },
     "execution_count": 5,
     "metadata": {},
     "output_type": "execute_result"
    }
   ],
   "source": [
    "# Print z-score and user name for all z-scores exceeding high z-score threshold.\n",
    "high_zscores_names"
   ]
  },
  {
   "cell_type": "code",
   "execution_count": 5,
   "id": "3db11752-2514-4fc1-b205-562a5f36b4ed",
   "metadata": {},
   "outputs": [
    {
     "ename": "NameError",
     "evalue": "name 'high_zscores_names' is not defined",
     "output_type": "error",
     "traceback": [
      "\u001b[0;31m---------------------------------------------------------------------------\u001b[0m",
      "\u001b[0;31mNameError\u001b[0m                                 Traceback (most recent call last)",
      "Input \u001b[0;32mIn [5]\u001b[0m, in \u001b[0;36m<cell line: 2>\u001b[0;34m()\u001b[0m\n\u001b[1;32m      1\u001b[0m \u001b[38;5;66;03m# Print users with high zscore entries.\u001b[39;00m\n\u001b[0;32m----> 2\u001b[0m \u001b[43mhigh_zscores_names\u001b[49m[\u001b[38;5;124m'\u001b[39m\u001b[38;5;124muserIdentitysessionContextsessionIssueruserName\u001b[39m\u001b[38;5;124m'\u001b[39m]\u001b[38;5;241m.\u001b[39munique()\n",
      "\u001b[0;31mNameError\u001b[0m: name 'high_zscores_names' is not defined"
     ]
    }
   ],
   "source": [
    "# Print users with high zscore entries.\n",
    "high_zscores_names['userIdentitysessionContextsessionIssueruserName'].unique()"
   ]
  },
  {
   "cell_type": "code",
   "execution_count": 6,
   "id": "f2849d1d-fbad-4cd2-8664-e3019ee9e952",
   "metadata": {},
   "outputs": [
    {
     "data": {
      "text/plain": [
       "array(['user17'], dtype=object)"
      ]
     },
     "execution_count": 6,
     "metadata": {},
     "output_type": "execute_result"
    }
   ],
   "source": [
    "output[output['ts_anomaly'] == True]['userIdentitysessionContextsessionIssueruserName'].unique()"
   ]
  },
  {
   "cell_type": "code",
   "execution_count": null,
   "id": "650b23c2-8fbc-43ad-85a4-3d0699c82a69",
   "metadata": {},
   "outputs": [],
   "source": [
    "  timeseries \\\n",
    "    --resolution=10m \\\n",
    "    --zscore_threshold=10.0 \\"
   ]
  },
  {
   "cell_type": "code",
   "execution_count": null,
   "id": "713f9e39-3235-4a7a-9cbd-4a9aedbca65c",
   "metadata": {},
   "outputs": [],
   "source": []
  },
  {
   "cell_type": "code",
   "execution_count": null,
   "id": "d158ebcb-ae40-4127-9a55-8087300395e9",
   "metadata": {},
   "outputs": [],
   "source": []
  },
  {
   "cell_type": "code",
   "execution_count": null,
   "id": "f5cc6376-364c-4e8e-84eb-26f22c748a41",
   "metadata": {},
   "outputs": [],
   "source": []
  },
  {
   "cell_type": "code",
   "execution_count": null,
   "id": "5a805631-4082-4956-8baf-fbd7352f7719",
   "metadata": {},
   "outputs": [],
   "source": []
  },
  {
   "cell_type": "code",
   "execution_count": null,
   "id": "73a9bbf2-d779-4ccb-bd2e-325fa774afa6",
   "metadata": {},
   "outputs": [],
   "source": []
  },
  {
   "cell_type": "code",
   "execution_count": null,
   "id": "4496a65c-019e-437e-a217-190c24c9d355",
   "metadata": {},
   "outputs": [],
   "source": []
  },
  {
   "cell_type": "markdown",
   "id": "e0028ac4-81f0-4957-b80e-35cb6588c7ec",
   "metadata": {},
   "source": [
    "---"
   ]
  },
  {
   "cell_type": "markdown",
   "id": "8c810605-0e05-4a62-b018-bdf77f991b32",
   "metadata": {},
   "source": [
    "## Next"
   ]
  },
  {
   "cell_type": "markdown",
   "id": "dbdf49dc-f3f1-41ed-975c-2ae27497744c",
   "metadata": {},
   "source": [
    "In the final section you will learn about how to get access to Morpheus, services that can enhance your usage of Morpheus and will learn about additional resources to assist you in your development.\n",
    "\n",
    "Please continue to the next notebook."
   ]
  }
 ],
 "metadata": {
  "kernelspec": {
   "display_name": "Python 3 (ipykernel)",
   "language": "python",
   "name": "python3"
  },
  "language_info": {
   "codemirror_mode": {
    "name": "ipython",
    "version": 3
   },
   "file_extension": ".py",
   "mimetype": "text/x-python",
   "name": "python",
   "nbconvert_exporter": "python",
   "pygments_lexer": "ipython3",
   "version": "3.8.13"
  }
 },
 "nbformat": 4,
 "nbformat_minor": 5
}
