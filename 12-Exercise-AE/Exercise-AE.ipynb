{
 "cells": [
  {
   "cell_type": "markdown",
   "id": "6e85713c-31aa-4e43-950a-d732549d2b0a",
   "metadata": {},
   "source": [
    "![DLI Header](../images/DLI_Header.png)"
   ]
  },
  {
   "cell_type": "markdown",
   "id": "c7a16116-bb7a-4a86-9a0b-6d9afea8f152",
   "metadata": {},
   "source": [
    "# Exercise: Build an Autoencoder Pipeline"
   ]
  },
  {
   "cell_type": "markdown",
   "id": "7abaffd2-50e1-4bcf-8928-4923ea850e93",
   "metadata": {},
   "source": [
    "Your task in this exercise is to create a digital fingerprint for `user123` and then use this digital fingerprint to ascertain whether or not the user's new activity is exhibiting anomalous behavior."
   ]
  },
  {
   "cell_type": "markdown",
   "id": "28220653-1ab1-4cc7-b4fd-41a711d751cc",
   "metadata": {},
   "source": [
    "---"
   ]
  },
  {
   "cell_type": "markdown",
   "id": "b455572c-4c92-4ca9-afc8-b697bc9b03bf",
   "metadata": {},
   "source": [
    "## Your Pipeline Here"
   ]
  },
  {
   "cell_type": "code",
   "execution_count": 1,
   "id": "ec1ed202-2fc0-4aaf-8085-7868d717ec85",
   "metadata": {},
   "outputs": [
    {
     "name": "stdout",
     "output_type": "stream",
     "text": [
      "\u001b[32mConfiguring Pipeline via CLI\u001b[0m\n",
      "\u001b[33mC++ is disabled for AutoEncoder pipelines at this time.\u001b[0m\n",
      "\u001b[31mStarting pipeline via CLI... Ctrl+C to Quit\u001b[0m\n",
      "512\n"
     ]
    }
   ],
   "source": [
    "!morpheus run \\\n",
    "  --num_threads=1 \\\n",
    "  pipeline-ae \\\n",
    "    --userid_filter=\"user123\" \\\n",
    "    --userid_column_name=\"userIdentitysessionContextsessionIssueruserName\" \\\n",
    "  from-cloudtrail \\\n",
    "    --input_glob=\"data/input-data/*.csv\" \\\n",
    "  train-ae \\\n",
    "    --train_data_glob=\"data/training-data/*.csv\" \\\n",
    "    --seed 42 \\\n",
    "  preprocess \\\n",
    "  inf-pytorch \\\n",
    "  add-scores \\\n",
    "  serialize \\\n",
    "  to-file \\\n",
    "    --filename=\"data/output/output.csv\" \\\n",
    "    --overwrite"
   ]
  },
  {
   "cell_type": "markdown",
   "id": "14e21bbb-c581-4eb5-88e3-d3f938fef0bc",
   "metadata": {},
   "source": [
    "---"
   ]
  },
  {
   "cell_type": "markdown",
   "id": "d956fe2d-a9c2-4107-881e-3d30bf6c6d97",
   "metadata": {},
   "source": [
    "## Examine the Output"
   ]
  },
  {
   "cell_type": "markdown",
   "id": "c457b3f2-01a3-4ac1-bcd2-e132b95fda06",
   "metadata": {},
   "source": [
    "After successfully constructing and running the pipeline, assuming you saved the output of your pipeline to `data/output/output.csv`, use the following cells to examine the output data."
   ]
  },
  {
   "cell_type": "code",
   "execution_count": 2,
   "id": "0eb1ce95-ba6b-485b-850b-9cdeadc38379",
   "metadata": {},
   "outputs": [],
   "source": [
    "import pandas as pd"
   ]
  },
  {
   "cell_type": "code",
   "execution_count": 3,
   "id": "926380e0-1944-4576-a927-d5b6308933ac",
   "metadata": {},
   "outputs": [],
   "source": [
    "output = pd.read_csv('data/output/output.csv')"
   ]
  },
  {
   "cell_type": "code",
   "execution_count": 4,
   "id": "aec32d88-9335-488f-9394-41e6c27d77b8",
   "metadata": {},
   "outputs": [
    {
     "data": {
      "text/plain": [
       "Unnamed: 0                                           int64\n",
       "_index_                                              int64\n",
       "eventID                                              int64\n",
       "eventTime                                           object\n",
       "userIdentityaccountId                               object\n",
       "eventSource                                         object\n",
       "eventName                                           object\n",
       "sourceIPAddress                                     object\n",
       "userAgent                                           object\n",
       "userIdentitytype                                    object\n",
       "apiVersion                                          object\n",
       "userIdentityprincipalId                             object\n",
       "userIdentityarn                                     object\n",
       "userIdentityaccessKeyId                             object\n",
       "userIdentitysessionContextsessionIssueruserName     object\n",
       "errorCode                                           object\n",
       "errorMessage                                        object\n",
       "tlsDetailsclientProvidedHostHeader                  object\n",
       "event_dt                                            object\n",
       "ae_anomaly_score                                   float64\n",
       "dtype: object"
      ]
     },
     "execution_count": 4,
     "metadata": {},
     "output_type": "execute_result"
    }
   ],
   "source": [
    "output.dtypes"
   ]
  },
  {
   "cell_type": "code",
   "execution_count": 5,
   "id": "a47b616f-617b-4610-b710-f78285050a0d",
   "metadata": {},
   "outputs": [
    {
     "data": {
      "text/plain": [
       "count    847.000000\n",
       "mean       0.425394\n",
       "std        0.244687\n",
       "min        0.154966\n",
       "25%        0.248559\n",
       "50%        0.376444\n",
       "75%        0.502863\n",
       "max        1.868160\n",
       "Name: ae_anomaly_score, dtype: float64"
      ]
     },
     "execution_count": 5,
     "metadata": {},
     "output_type": "execute_result"
    }
   ],
   "source": [
    "output['ae_anomaly_score'].describe()"
   ]
  },
  {
   "cell_type": "code",
   "execution_count": 6,
   "id": "6de88e5d-6dd6-4429-bc81-2196857d891a",
   "metadata": {},
   "outputs": [
    {
     "data": {
      "text/plain": [
       "315    1.868160\n",
       "318    1.646329\n",
       "314    1.640971\n",
       "321    1.592058\n",
       "317    1.592058\n",
       "         ...   \n",
       "312    0.154966\n",
       "306    0.154966\n",
       "556    0.154966\n",
       "559    0.154966\n",
       "767    0.154966\n",
       "Name: ae_anomaly_score, Length: 847, dtype: float64"
      ]
     },
     "execution_count": 6,
     "metadata": {},
     "output_type": "execute_result"
    }
   ],
   "source": [
    "output.sort_values(by='ae_anomaly_score', ascending=False)['ae_anomaly_score']"
   ]
  },
  {
   "cell_type": "markdown",
   "id": "46f8f53d-b84d-4c4a-b1c7-dd27bf3068f3",
   "metadata": {},
   "source": [
    "---"
   ]
  },
  {
   "cell_type": "markdown",
   "id": "56ea42ab-f48a-42dc-a787-f2b54d31ff36",
   "metadata": {},
   "source": [
    "## Calculate the Z-Scores"
   ]
  },
  {
   "cell_type": "markdown",
   "id": "3dacd4b0-c1f6-4156-a60e-0cd385134ed4",
   "metadata": {},
   "source": [
    "Use the following cells to assist you in calculating Z-Scores from `user123`'s autoencoder anomaly scores."
   ]
  },
  {
   "cell_type": "code",
   "execution_count": 7,
   "id": "b01df97b-d835-464b-8482-f75c89fffce1",
   "metadata": {},
   "outputs": [],
   "source": [
    "output['zscore'] = ( output['ae_anomaly_score'] - output['ae_anomaly_score'].mean() ) / output['ae_anomaly_score'].std()"
   ]
  },
  {
   "cell_type": "code",
   "execution_count": 8,
   "id": "9b8e480f-1f04-4fe7-b9c4-38319d482d43",
   "metadata": {},
   "outputs": [
    {
     "data": {
      "text/plain": [
       "count    8.470000e+02\n",
       "mean    -1.090561e-16\n",
       "std      1.000000e+00\n",
       "min     -1.105201e+00\n",
       "25%     -7.226960e-01\n",
       "50%     -2.000484e-01\n",
       "75%      3.166043e-01\n",
       "max      5.896379e+00\n",
       "Name: zscore, dtype: float64"
      ]
     },
     "execution_count": 8,
     "metadata": {},
     "output_type": "execute_result"
    }
   ],
   "source": [
    "output['zscore'].describe()"
   ]
  },
  {
   "cell_type": "code",
   "execution_count": 9,
   "id": "cf60d4f6-52cb-4aaf-aa6d-542b747817d9",
   "metadata": {},
   "outputs": [
    {
     "data": {
      "text/plain": [
       "315    5.896379\n",
       "318    4.989788\n",
       "314    4.967892\n",
       "321    4.767992\n",
       "317    4.767992\n",
       "         ...   \n",
       "312   -1.105201\n",
       "306   -1.105201\n",
       "556   -1.105201\n",
       "559   -1.105201\n",
       "767   -1.105201\n",
       "Name: zscore, Length: 847, dtype: float64"
      ]
     },
     "execution_count": 9,
     "metadata": {},
     "output_type": "execute_result"
    }
   ],
   "source": [
    "output.sort_values(by='zscore', ascending=False)['zscore']"
   ]
  },
  {
   "cell_type": "markdown",
   "id": "91d27afe-fd7c-40d7-a952-d788db798589",
   "metadata": {},
   "source": [
    "---"
   ]
  },
  {
   "cell_type": "markdown",
   "id": "5f8fbc19-18cf-415f-8e6b-20ea6884a81f",
   "metadata": {},
   "source": [
    "## Analysis"
   ]
  },
  {
   "cell_type": "markdown",
   "id": "722c79e9-1bd3-4463-881f-208ff7e4ecd4",
   "metadata": {},
   "source": [
    "Under the assumption that a Z-score greater than 4 indicates that activity is anomalous compared to a user's digital fingerprint, what is your analysis of the pipeline's output?"
   ]
  },
  {
   "cell_type": "markdown",
   "id": "0b760bb1-9a3d-4525-8b03-9393f8b167dd",
   "metadata": {},
   "source": []
  },
  {
   "cell_type": "markdown",
   "id": "fdc6a9a7-da82-4991-991f-2d26a88f868b",
   "metadata": {},
   "source": [
    "## Solution"
   ]
  },
  {
   "cell_type": "markdown",
   "id": "ea528d5d-428e-40ce-8860-d2890c196375",
   "metadata": {
    "tags": []
   },
   "source": [
    "If you get stuck, click on the `...` directly below to expand the solution pipeline."
   ]
  },
  {
   "cell_type": "markdown",
   "id": "9e07b8f2-8adc-4350-8b1d-7d937545d09b",
   "metadata": {
    "tags": []
   },
   "source": [
    "### Solution Pipeline\n",
    "\n",
    "```sh\n",
    "morpheus run \\\n",
    "  --num_threads=1 \\\n",
    "  pipeline-ae \\\n",
    "    --userid_filter=\"user123\" \\\n",
    "    --userid_column_name=\"userIdentitysessionContextsessionIssueruserName\" \\\n",
    "  from-cloudtrail \\\n",
    "    --input_glob=\"data/input-data/*.csv\" \\\n",
    "  train-ae \\\n",
    "    --train_data_glob=\"data/training-data/*.csv\" \\\n",
    "    --seed 42 \\\n",
    "  preprocess \\\n",
    "  inf-pytorch \\\n",
    "  add-scores \\\n",
    "  serialize \\\n",
    "  to-file \\\n",
    "    --filename=\"data/output/output.csv\" \\\n",
    "    --overwrite\n",
    "```\n",
    "\n",
    "### Solution Analysis\n",
    "\n",
    "Incoming data for `user123` exhibited z-scores in excess of 4. This user's account is exhibiting highly anomalous behavior compared to its digital fingerprint and further investigation or action is warranted."
   ]
  },
  {
   "cell_type": "markdown",
   "id": "cbd3f091-d242-4af6-9f4e-0d35b6d9a157",
   "metadata": {},
   "source": [
    "---"
   ]
  },
  {
   "cell_type": "markdown",
   "id": "01e10c41-2e83-4911-8900-a698023de468",
   "metadata": {},
   "source": [
    "## Next"
   ]
  },
  {
   "cell_type": "markdown",
   "id": "4a29fce2-fbba-403e-ac61-0055b34ff13a",
   "metadata": {},
   "source": [
    "In addition to the powerful autoencoder tools you've utilized so far, the Morpheus autoencoder pipeline also provides the capabilities to perform time series analysis to identify anomalous user behavior across time. In the next section you will learn how to utilize it.\n",
    "\n",
    "Please continue to the next notebook."
   ]
  }
 ],
 "metadata": {
  "kernelspec": {
   "display_name": "Python 3 (ipykernel)",
   "language": "python",
   "name": "python3"
  },
  "language_info": {
   "codemirror_mode": {
    "name": "ipython",
    "version": 3
   },
   "file_extension": ".py",
   "mimetype": "text/x-python",
   "name": "python",
   "nbconvert_exporter": "python",
   "pygments_lexer": "ipython3",
   "version": "3.8.13"
  }
 },
 "nbformat": 4,
 "nbformat_minor": 5
}
