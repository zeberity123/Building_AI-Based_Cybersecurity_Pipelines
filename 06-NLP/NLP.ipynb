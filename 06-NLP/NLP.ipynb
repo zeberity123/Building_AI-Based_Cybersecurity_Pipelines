{
 "cells": [
  {
   "cell_type": "markdown",
   "id": "2c7cf67c-472d-40d4-9b3d-caf6513248eb",
   "metadata": {},
   "source": [
    "![DLI Logo](../images/DLI_Header.png)"
   ]
  },
  {
   "cell_type": "markdown",
   "id": "ac9d79f8-8a3b-4632-b816-e385246f5cf5",
   "metadata": {},
   "source": [
    "# An Introduction to NLP"
   ]
  },
  {
   "cell_type": "markdown",
   "id": "fac617bc-5bdb-4364-a159-f9dbfae27d6e",
   "metadata": {},
   "source": [
    "In this notebook, you will get a high level introduction to key Natural Language Processing (NLP) concepts in preparation for utilizing NLP in Morpheus pipelines."
   ]
  },
  {
   "cell_type": "markdown",
   "id": "9841f392-5f45-405e-99f6-3a1e8c61b0fb",
   "metadata": {},
   "source": [
    "## Objectives"
   ]
  },
  {
   "cell_type": "markdown",
   "id": "bc237671-e2a0-471b-94c0-2f066cfcd155",
   "metadata": {},
   "source": [
    "By the time you complete this notebook you will:\n",
    "\n",
    "- Understand how many common cybersecurity tasks can be addressed with natural language processing.\n",
    "- Understand enough about NLP to begin using it in Morpheus pipelines.\n",
    "- Know where to go to learn more about NLP should you wish."
   ]
  },
  {
   "cell_type": "markdown",
   "id": "4677e025-92ed-4274-a75b-2e64bcd33f7c",
   "metadata": {},
   "source": [
    "---"
   ]
  },
  {
   "cell_type": "markdown",
   "id": "8ae6b180-62fa-4ace-83d5-e0942ca9e7da",
   "metadata": {},
   "source": [
    "## Cybersecurity Tasks as NLP Problems"
   ]
  },
  {
   "cell_type": "markdown",
   "id": "e96dcba5-3da1-488b-8e9e-10ec31ce9ed5",
   "metadata": {},
   "source": [
    "Many cybersecurity tasks that deal with textual information - log parsing/analysis, phishing detection, to name a few - can be treated as natural language processing (**NLP**) problems. NLP is a **deep learning** technique whereby **models** can be **trained** to understand characteristics of text in ways that emulate or even surpass human capabilities.\n",
    "\n",
    "In the case of cybersecurity, traditional methods for textual analysis rely on rules-based systems, often relying heavily on regex. Regex rules can be brittle, and require constant maintenance to address novel kinds of text. NLP models, however, can learn to identify characteristics in text that is generalized and capable to make accurate assessments of never before seen inputs."
   ]
  },
  {
   "cell_type": "markdown",
   "id": "54e42945-1095-44fd-ab25-be7afa1dd7fb",
   "metadata": {},
   "source": [
    "---"
   ]
  },
  {
   "cell_type": "markdown",
   "id": "c8f7e64e-e3b1-410a-8ff7-ec282a26dbcd",
   "metadata": {},
   "source": [
    "## Sequence Classification"
   ]
  },
  {
   "cell_type": "markdown",
   "id": "64dd5635-952c-4edd-b93d-ccdcd8f88199",
   "metadata": {},
   "source": [
    "More specifically, we would like to utilize NLP to perform [sequence classification](https://docs.nvidia.com/tao/tao-toolkit/text/nlp/text_classification.html) on cybersecurity logs. In sequence classification we define categories that we would like to find and classify within unstructured text."
   ]
  },
  {
   "cell_type": "markdown",
   "id": "7f1e2775-8024-48ac-842c-958272801cd3",
   "metadata": {},
   "source": [
    "---"
   ]
  },
  {
   "cell_type": "markdown",
   "id": "81ce0855-6352-4d22-ba30-a61a49276c9d",
   "metadata": {},
   "source": [
    "## A Non-Cybersecurity Example"
   ]
  },
  {
   "cell_type": "markdown",
   "id": "11ee2640-a652-4bd6-b0e1-d54ae2937027",
   "metadata": {},
   "source": [
    "As an example, let's say we would like to be able to identify if these categories of text reside in written paragraphs:\n",
    "- name\n",
    "- location\n",
    "- time\n",
    "\n",
    "Given the following paragraph...\n",
    "\n",
    "> Both our children celebrated birthdays last week: Rowan on Wednesday and Cora on Sunday. For Ro's birthday we went to the beach with friends, for Cora's we hung out in the backyard with their grandparents.\n",
    "\n",
    "...sequence classification might generate the following:\n",
    "\n",
    "```\n",
    "{\n",
    "    \"name\": true,\n",
    "    \"location\": true,\n",
    "    \"time\": true\n",
    "}\n",
    "```    \n",
    "\n",
    "...named entity recognition might generate the following:\n",
    "\n",
    "> Both our children celebrated birthdays **last week _(time)_**: **Rowan _(name)_** on **Wednesday _(time)_** and **Cora _(name)_** on **Sunday _(time)_**. For **Ro's _(name)_** birthday we went to **the beach _(location)_** with friends, for **Cora's _(name)_** we hung out in **the backyard _(location)_** with their grandparents."
   ]
  },
  {
   "cell_type": "markdown",
   "id": "916ef546-d507-4531-8848-a7661a4b55ac",
   "metadata": {},
   "source": [
    "---"
   ]
  },
  {
   "cell_type": "markdown",
   "id": "9e9615f7-8e0f-4520-9d32-40a4f0359a7f",
   "metadata": {},
   "source": [
    "## Sequence Classification for Cybersecurity"
   ]
  },
  {
   "cell_type": "markdown",
   "id": "55b18932-ed57-429f-9d3e-169d7a7e17be",
   "metadata": {},
   "source": [
    "In this workshop we will use NLP tools that ship with Morpheus to perform sequence classification on packet captures to identify the following classes of sensitive information:\n",
    "\n",
    "- address\n",
    "- bank_acct\n",
    "- credit_card\n",
    "- email\n",
    "- govt_id\n",
    "- name\n",
    "- password\n",
    "- phone_num\n",
    "- secret_keys\n",
    "- user"
   ]
  },
  {
   "cell_type": "markdown",
   "id": "a912b0b7-d005-4549-9b35-51e794f642cc",
   "metadata": {},
   "source": [
    "---"
   ]
  },
  {
   "cell_type": "markdown",
   "id": "0cdd4a43-fa8f-45e0-8f06-09be1ebdab2c",
   "metadata": {},
   "source": [
    "## Additional Resources"
   ]
  },
  {
   "cell_type": "markdown",
   "id": "13110b96-fdbe-4574-8b6a-0153c0cae720",
   "metadata": {},
   "source": [
    "For those of you who would like to take a deeper dive into NLP please consider the following resources:\n",
    "\n",
    "- *[CyBERT](https://medium.com/rapids-ai/cybert-28b35a4c81c4)*: This blog post covers how NVIDIA built on top of the state-of-the-art BERT NLP model to develop the pretrained NLP model used in Morpheus for cybersecurity-relevant named-entity recognition.\n",
    "- *[Preprocess Your Data at Lightspeed with Our GPU-based Tokenizer for BERT Language Models](https://medium.com/rapids-ai/preprocess-your-training-data-at-lightspeed-with-our-gpu-based-tokenizer-for-bert-language-models-561cf9c46e15)*: This technical blog post discusses how NVIDIA has pushed the limits of CyBERT performance on GPUs.\n",
    "- _[Building Transformer-Based Natural Language Processing Applications](https://courses.nvidia.com/courses/course-v1:DLI+C-FX-03+V3/about)_: This Deep Learning Institute workshop gives extensive and interactive coverage to building state-of-the-art NLP applications."
   ]
  },
  {
   "cell_type": "markdown",
   "id": "9488c714-b3f0-4341-80d2-a159e25e3f2b",
   "metadata": {},
   "source": [
    "## Next"
   ]
  },
  {
   "cell_type": "markdown",
   "id": "7727a141-1f92-43fb-8486-a5e5b7626cd1",
   "metadata": {},
   "source": [
    "With a very high-level understanding of sequence classification, you have enough context to begin using NLP in Morpheus pipelines.\n",
    "\n",
    "Please continue to the next notebook."
   ]
  }
 ],
 "metadata": {
  "kernelspec": {
   "display_name": "Python 3 (ipykernel)",
   "language": "python",
   "name": "python3"
  },
  "language_info": {
   "codemirror_mode": {
    "name": "ipython",
    "version": 3
   },
   "file_extension": ".py",
   "mimetype": "text/x-python",
   "name": "python",
   "nbconvert_exporter": "python",
   "pygments_lexer": "ipython3",
   "version": "3.8.13"
  }
 },
 "nbformat": 4,
 "nbformat_minor": 5
}
