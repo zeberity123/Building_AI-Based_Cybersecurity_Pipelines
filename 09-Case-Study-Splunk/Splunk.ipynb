{
 "cells": [
  {
   "cell_type": "markdown",
   "id": "dcb85f23-25f2-4d68-8b41-42d662f60ac1",
   "metadata": {},
   "source": [
    "![DLI Logo](../images/DLI_Header.png)"
   ]
  },
  {
   "cell_type": "markdown",
   "id": "f9954eb8-ac8d-4b2b-aef0-1e1e8c093a81",
   "metadata": {},
   "source": [
    "# Case Study: How Splunk is Parsing Machine Logs with Machine Learning"
   ]
  },
  {
   "cell_type": "markdown",
   "id": "bc9cf66d-4a04-4ba4-a0fa-3416fd421339",
   "metadata": {},
   "source": [
    "In this section we will take a look at how Splunk has been using Morpheus to leverage machine learning in the parsing of logs.\n",
    "\n",
    "Please take the time to read [this blog post](https://www.splunk.com/en_us/blog/it/how-splunk-is-parsing-machine-logs-with-machine-learning-on-nvidia-s-triton-and-morpheus.html). After you are finished, you will discuss with your instructor and the class how what you read fits in with what you have learned in the workshop so far."
   ]
  },
  {
   "cell_type": "markdown",
   "id": "660ef53b-4677-45b9-b773-715a0c7a019a",
   "metadata": {},
   "source": [
    "## Next"
   ]
  },
  {
   "cell_type": "markdown",
   "id": "551f027d-2fc7-4e85-ad0b-7208c1904bf4",
   "metadata": {},
   "source": [
    "In the next section we will return to interactive programming and begin our examination of digital fingerprinting use the Morpheus autoencoder pipeline.\n",
    "\n",
    "Please continue to the next notebook."
   ]
  }
 ],
 "metadata": {
  "kernelspec": {
   "display_name": "Python 3 (ipykernel)",
   "language": "python",
   "name": "python3"
  },
  "language_info": {
   "codemirror_mode": {
    "name": "ipython",
    "version": 3
   },
   "file_extension": ".py",
   "mimetype": "text/x-python",
   "name": "python",
   "nbconvert_exporter": "python",
   "pygments_lexer": "ipython3",
   "version": "3.8.13"
  }
 },
 "nbformat": 4,
 "nbformat_minor": 5
}
