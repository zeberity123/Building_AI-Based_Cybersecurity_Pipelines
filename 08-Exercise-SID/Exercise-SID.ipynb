{
 "cells": [
  {
   "cell_type": "markdown",
   "id": "2c7cf67c-472d-40d4-9b3d-caf6513248eb",
   "metadata": {},
   "source": [
    "![DLI Logo](../images/DLI_Header.png)"
   ]
  },
  {
   "cell_type": "markdown",
   "id": "ac9d79f8-8a3b-4632-b816-e385246f5cf5",
   "metadata": {},
   "source": [
    "# Exercise: Build a SID Pipeline"
   ]
  },
  {
   "cell_type": "markdown",
   "id": "fac617bc-5bdb-4364-a159-f9dbfae27d6e",
   "metadata": {},
   "source": [
    "Construct an NLP pipeline for `data/pcap_dump.jsonlines`, which has reduced in size from the previous section in order to complete more quickly.\n",
    "\n",
    "In addition to correctly ingesting, preprocessing, inferencing, and outputting data, your pipeline should also do the following:\n",
    "\n",
    "- Utilize the class labels file `data/labels.txt`\n",
    "- Keep all messages with a probability of containing sensitive information greater than .2 using the `filter` stage\n",
    "- Include only the `timestamp`, `host_ip`, and `data` fields in the output using the `serialize` stage\n",
    "- Save the output as `data/output/output.jsonlines`\n",
    "\n",
    "Because the incoming data has been so greatly reduced in size, your pipeline should complete within a few seconds and you should be able to run it from the notebook without issue. If you find that the pipeline is taking much longer than a few seconds, it could be that you have leftover processes from previous notebooks consuming GPU memory. To fix this use the Jupyter menu to select _Kernel_ -> _Shut Down All Kernels..._ and then try again."
   ]
  },
  {
   "cell_type": "markdown",
   "id": "6e40fd16-944a-4339-83d8-2db0da4d0da3",
   "metadata": {},
   "source": [
    "---"
   ]
  },
  {
   "cell_type": "markdown",
   "id": "af4c5a81-3068-40c0-a634-42c2bb5cdfb6",
   "metadata": {},
   "source": [
    "## Your Work Here"
   ]
  },
  {
   "cell_type": "code",
   "execution_count": 1,
   "id": "11a5619c-cb72-4f29-b5d6-8eae2d9fc9d5",
   "metadata": {},
   "outputs": [
    {
     "name": "stdout",
     "output_type": "stream",
     "text": [
      "\u001b[32mConfiguring Pipeline via CLI\u001b[0m\n",
      "\u001b[31mStarting pipeline via CLI... Ctrl+C to Quit\u001b[0m\n"
     ]
    }
   ],
   "source": [
    "!morpheus run \\\n",
    "  pipeline-nlp \\\n",
    "    --labels_file=data/labels.txt \\\n",
    "  from-file --filename=data/pcap_dump.jsonlines \\\n",
    "  deserialize \\\n",
    "  preprocess \\\n",
    "    --vocab_hash_file=data/bert-base-uncased-hash.txt \\\n",
    "    --truncation=True \\\n",
    "    --do_lower_case=True \\\n",
    "  inf-triton \\\n",
    "    --model_name=sid-minibert-onnx \\\n",
    "    --server_url=triton:8001 \\\n",
    "  add-class \\\n",
    "  filter --threshold=0.2 \\\n",
    "  serialize \\\n",
    "    --include='timestamp' \\\n",
    "    --include='host_ip' \\\n",
    "    --include='data' \\\n",
    "    --exclude='data_len' \\\n",
    "  to-file --filename=data/output/output.jsonlines --overwrite"
   ]
  },
  {
   "cell_type": "markdown",
   "id": "62f24fd5-e9ad-4436-9dcd-c319fcbc6f52",
   "metadata": {},
   "source": [
    "---"
   ]
  },
  {
   "cell_type": "markdown",
   "id": "f3f7bcb8-4270-43a7-ad50-de28ca7bd2b1",
   "metadata": {},
   "source": [
    "## Explore Your Results"
   ]
  },
  {
   "cell_type": "markdown",
   "id": "be08ab0c-4a37-4f88-beb0-1d58ebdc2c5d",
   "metadata": {},
   "source": [
    "To assist your work, you can use the following cells to load your output file and examine its contents."
   ]
  },
  {
   "cell_type": "code",
   "execution_count": 2,
   "id": "8e793be0-a444-4b52-80bd-cea2656214c6",
   "metadata": {},
   "outputs": [],
   "source": [
    "import pandas as pd"
   ]
  },
  {
   "cell_type": "code",
   "execution_count": 3,
   "id": "969cb0ff-1679-4270-9bf6-033332456f05",
   "metadata": {},
   "outputs": [],
   "source": [
    "results = pd.read_json('data/output/output.jsonlines', lines=True)"
   ]
  },
  {
   "cell_type": "code",
   "execution_count": 4,
   "id": "a8340df0-663d-4107-a5af-96ba1be90fd6",
   "metadata": {},
   "outputs": [
    {
     "data": {
      "text/plain": [
       "(17, 3)"
      ]
     },
     "execution_count": 4,
     "metadata": {},
     "output_type": "execute_result"
    }
   ],
   "source": [
    "results.shape"
   ]
  },
  {
   "cell_type": "code",
   "execution_count": 5,
   "id": "6146f0ba-6a24-4fdb-9e7e-f20819197fc6",
   "metadata": {},
   "outputs": [
    {
     "data": {
      "text/html": [
       "<div>\n",
       "<style scoped>\n",
       "    .dataframe tbody tr th:only-of-type {\n",
       "        vertical-align: middle;\n",
       "    }\n",
       "\n",
       "    .dataframe tbody tr th {\n",
       "        vertical-align: top;\n",
       "    }\n",
       "\n",
       "    .dataframe thead th {\n",
       "        text-align: right;\n",
       "    }\n",
       "</style>\n",
       "<table border=\"1\" class=\"dataframe\">\n",
       "  <thead>\n",
       "    <tr style=\"text-align: right;\">\n",
       "      <th></th>\n",
       "      <th>timestamp</th>\n",
       "      <th>host_ip</th>\n",
       "      <th>data</th>\n",
       "    </tr>\n",
       "  </thead>\n",
       "  <tbody>\n",
       "    <tr>\n",
       "      <th>0</th>\n",
       "      <td>2021-03-22 03:57:11.671</td>\n",
       "      <td>10.188.40.56</td>\n",
       "      <td>\"{\\\"name\\\": \\\"kxpmO8AR 04893905\\\", \\\"lang\\\": \\...</td>\n",
       "    </tr>\n",
       "    <tr>\n",
       "      <th>1</th>\n",
       "      <td>2021-03-22 03:57:11.876</td>\n",
       "      <td>10.188.40.56</td>\n",
       "      <td>\"{\\\"name\\\": \\\"impact 58JjryDh kind 16742730 el...</td>\n",
       "    </tr>\n",
       "    <tr>\n",
       "      <th>2</th>\n",
       "      <td>2021-03-22 03:57:11.980</td>\n",
       "      <td>10.188.40.56</td>\n",
       "      <td>\"{\\\"query\\\": \\\"tgaLEqlT leader plant 43791449\\...</td>\n",
       "    </tr>\n",
       "    <tr>\n",
       "      <th>3</th>\n",
       "      <td>2021-03-22 03:57:12.291</td>\n",
       "      <td>10.188.40.56</td>\n",
       "      <td>\"{\\\"id\\\": -432436979, \\\"userFields\\\": \\\"Patric...</td>\n",
       "    </tr>\n",
       "    <tr>\n",
       "      <th>4</th>\n",
       "      <td>2021-03-22 03:57:12.393</td>\n",
       "      <td>10.188.40.56</td>\n",
       "      <td>\"{\\\"id\\\": 290110817, \\\"userFields\\\": \\\"Stefani...</td>\n",
       "    </tr>\n",
       "    <tr>\n",
       "      <th>5</th>\n",
       "      <td>2021-03-22 03:57:12.397</td>\n",
       "      <td>10.188.40.56</td>\n",
       "      <td>\"{\\\"id\\\": 966611706, \\\"userFields\\\": \\\"Adam Fl...</td>\n",
       "    </tr>\n",
       "    <tr>\n",
       "      <th>6</th>\n",
       "      <td>2021-03-22 03:57:12.602</td>\n",
       "      <td>10.188.40.56</td>\n",
       "      <td>\"{\\\"id\\\": 156558966, \\\"userFields\\\": \\\"Nathani...</td>\n",
       "    </tr>\n",
       "    <tr>\n",
       "      <th>7</th>\n",
       "      <td>2021-03-22 03:57:12.703</td>\n",
       "      <td>10.188.40.56</td>\n",
       "      <td>\"{\\\"id\\\": -674262537, \\\"userFields\\\": \\\"Rhonda...</td>\n",
       "    </tr>\n",
       "    <tr>\n",
       "      <th>8</th>\n",
       "      <td>2021-03-22 03:57:12.707</td>\n",
       "      <td>10.188.40.56</td>\n",
       "      <td>\"{\\\"id\\\": -386527694, \\\"userFields\\\": \\\"John R...</td>\n",
       "    </tr>\n",
       "    <tr>\n",
       "      <th>9</th>\n",
       "      <td>2021-03-22 03:57:12.810</td>\n",
       "      <td>10.188.40.56</td>\n",
       "      <td>\"{\\\"id\\\": -477637789, \\\"userFields\\\": \\\"Elizab...</td>\n",
       "    </tr>\n",
       "    <tr>\n",
       "      <th>10</th>\n",
       "      <td>2021-03-22 03:57:12.913</td>\n",
       "      <td>10.188.40.56</td>\n",
       "      <td>\"{\\\"id\\\": -547784934, \\\"userFields\\\": \\\"Kara P...</td>\n",
       "    </tr>\n",
       "    <tr>\n",
       "      <th>11</th>\n",
       "      <td>2021-03-22 03:57:12.917</td>\n",
       "      <td>10.188.40.56</td>\n",
       "      <td>\"{\\\"id\\\": 737683336, \\\"userFields\\\": \\\"Jessica...</td>\n",
       "    </tr>\n",
       "    <tr>\n",
       "      <th>12</th>\n",
       "      <td>2021-03-22 03:57:13.019</td>\n",
       "      <td>10.188.40.56</td>\n",
       "      <td>\"{\\\"id\\\": -217746396, \\\"userFields\\\": \\\"Ian Ha...</td>\n",
       "    </tr>\n",
       "    <tr>\n",
       "      <th>13</th>\n",
       "      <td>2021-03-22 03:57:13.123</td>\n",
       "      <td>10.188.40.56</td>\n",
       "      <td>\"{\\\"id\\\": 231313408, \\\"userFields\\\": \\\"Ariel A...</td>\n",
       "    </tr>\n",
       "    <tr>\n",
       "      <th>14</th>\n",
       "      <td>2021-03-22 03:57:13.127</td>\n",
       "      <td>10.188.40.56</td>\n",
       "      <td>\"{\\\"id\\\": -388569646, \\\"userFields\\\": \\\"Jesse ...</td>\n",
       "    </tr>\n",
       "    <tr>\n",
       "      <th>15</th>\n",
       "      <td>2021-03-22 03:57:13.231</td>\n",
       "      <td>10.188.40.56</td>\n",
       "      <td>\"{\\\"id\\\": 1039237120, \\\"userFields\\\": \\\"Kriste...</td>\n",
       "    </tr>\n",
       "    <tr>\n",
       "      <th>16</th>\n",
       "      <td>2021-03-22 03:57:13.953</td>\n",
       "      <td>10.188.40.56</td>\n",
       "      <td>\"{\\\"query\\\": \\\"guy RheWOdnV bA7ndH4o 51050775 ...</td>\n",
       "    </tr>\n",
       "  </tbody>\n",
       "</table>\n",
       "</div>"
      ],
      "text/plain": [
       "                 timestamp       host_ip  \\\n",
       "0  2021-03-22 03:57:11.671  10.188.40.56   \n",
       "1  2021-03-22 03:57:11.876  10.188.40.56   \n",
       "2  2021-03-22 03:57:11.980  10.188.40.56   \n",
       "3  2021-03-22 03:57:12.291  10.188.40.56   \n",
       "4  2021-03-22 03:57:12.393  10.188.40.56   \n",
       "5  2021-03-22 03:57:12.397  10.188.40.56   \n",
       "6  2021-03-22 03:57:12.602  10.188.40.56   \n",
       "7  2021-03-22 03:57:12.703  10.188.40.56   \n",
       "8  2021-03-22 03:57:12.707  10.188.40.56   \n",
       "9  2021-03-22 03:57:12.810  10.188.40.56   \n",
       "10 2021-03-22 03:57:12.913  10.188.40.56   \n",
       "11 2021-03-22 03:57:12.917  10.188.40.56   \n",
       "12 2021-03-22 03:57:13.019  10.188.40.56   \n",
       "13 2021-03-22 03:57:13.123  10.188.40.56   \n",
       "14 2021-03-22 03:57:13.127  10.188.40.56   \n",
       "15 2021-03-22 03:57:13.231  10.188.40.56   \n",
       "16 2021-03-22 03:57:13.953  10.188.40.56   \n",
       "\n",
       "                                                 data  \n",
       "0   \"{\\\"name\\\": \\\"kxpmO8AR 04893905\\\", \\\"lang\\\": \\...  \n",
       "1   \"{\\\"name\\\": \\\"impact 58JjryDh kind 16742730 el...  \n",
       "2   \"{\\\"query\\\": \\\"tgaLEqlT leader plant 43791449\\...  \n",
       "3   \"{\\\"id\\\": -432436979, \\\"userFields\\\": \\\"Patric...  \n",
       "4   \"{\\\"id\\\": 290110817, \\\"userFields\\\": \\\"Stefani...  \n",
       "5   \"{\\\"id\\\": 966611706, \\\"userFields\\\": \\\"Adam Fl...  \n",
       "6   \"{\\\"id\\\": 156558966, \\\"userFields\\\": \\\"Nathani...  \n",
       "7   \"{\\\"id\\\": -674262537, \\\"userFields\\\": \\\"Rhonda...  \n",
       "8   \"{\\\"id\\\": -386527694, \\\"userFields\\\": \\\"John R...  \n",
       "9   \"{\\\"id\\\": -477637789, \\\"userFields\\\": \\\"Elizab...  \n",
       "10  \"{\\\"id\\\": -547784934, \\\"userFields\\\": \\\"Kara P...  \n",
       "11  \"{\\\"id\\\": 737683336, \\\"userFields\\\": \\\"Jessica...  \n",
       "12  \"{\\\"id\\\": -217746396, \\\"userFields\\\": \\\"Ian Ha...  \n",
       "13  \"{\\\"id\\\": 231313408, \\\"userFields\\\": \\\"Ariel A...  \n",
       "14  \"{\\\"id\\\": -388569646, \\\"userFields\\\": \\\"Jesse ...  \n",
       "15  \"{\\\"id\\\": 1039237120, \\\"userFields\\\": \\\"Kriste...  \n",
       "16  \"{\\\"query\\\": \\\"guy RheWOdnV bA7ndH4o 51050775 ...  "
      ]
     },
     "execution_count": 5,
     "metadata": {},
     "output_type": "execute_result"
    }
   ],
   "source": [
    "results"
   ]
  },
  {
   "cell_type": "markdown",
   "id": "1493ee24-3c41-428e-9444-d6826230faf2",
   "metadata": {},
   "source": [
    "---"
   ]
  },
  {
   "cell_type": "markdown",
   "id": "79ad2d79-b3ff-429d-bc3e-407813926690",
   "metadata": {},
   "source": [
    "## Check Your Work"
   ]
  },
  {
   "cell_type": "markdown",
   "id": "7dd668f8-2cbe-42e0-9fd5-08e593b3afdd",
   "metadata": {},
   "source": [
    "To check your work, run the following cell. It will run the shell command `diff` against an existing solution output (`data/output/solution.jsonlines`) and your output (`data/output/output.jsonlines`). If the files are identical there will be no output and you will know your work is correct."
   ]
  },
  {
   "cell_type": "code",
   "execution_count": 6,
   "id": "27cb10a0-756a-4316-ab31-67fb59526312",
   "metadata": {},
   "outputs": [],
   "source": [
    "!diff data/output/output.jsonlines data/output/solution.jsonlines"
   ]
  },
  {
   "cell_type": "markdown",
   "id": "58aa5357-bbaa-4adc-96fe-bcb5bcb8e1ae",
   "metadata": {},
   "source": [
    "---"
   ]
  },
  {
   "cell_type": "markdown",
   "id": "d098eb96-a868-486b-b48b-3816cfcfa2f3",
   "metadata": {},
   "source": [
    "## Solution"
   ]
  },
  {
   "cell_type": "markdown",
   "id": "39fa5868-b1da-4147-95dc-49ad222fc7bc",
   "metadata": {},
   "source": [
    "If you get stuck, click on the `...` directly below to expand the solution pipeline."
   ]
  },
  {
   "cell_type": "markdown",
   "id": "17dbfbd3-8dc1-4d1e-a0cb-82c0deb87999",
   "metadata": {
    "tags": []
   },
   "source": [
    "```sh\n",
    "morpheus run \\\n",
    "  pipeline-nlp \\\n",
    "    --labels_file=data/labels.txt \\\n",
    "  from-file --filename=data/pcap_dump.jsonlines \\\n",
    "  deserialize \\\n",
    "  preprocess \\\n",
    "    --vocab_hash_file=data/bert-base-uncased-hash.txt \\\n",
    "    --truncation=True \\\n",
    "    --do_lower_case=True \\\n",
    "  inf-triton \\\n",
    "    --model_name=sid-minibert-onnx \\\n",
    "    --server_url=triton:8001 \\\n",
    "  add-class \\\n",
    "  filter --threshold=0.2 \\\n",
    "  serialize \\\n",
    "    --include='timestamp' \\\n",
    "    --include='host_ip' \\\n",
    "    --include='data' \\\n",
    "    --exclude='data_len' \\\n",
    "  to-file --filename=data/output/output.jsonlines --overwrite\n",
    "```"
   ]
  },
  {
   "cell_type": "markdown",
   "id": "a5570b08-a736-4999-bcc9-f1fa54713b1b",
   "metadata": {},
   "source": [
    "---"
   ]
  },
  {
   "cell_type": "markdown",
   "id": "007e14c9-5eac-452e-a7d9-e9504c898814",
   "metadata": {},
   "source": [
    "## Next"
   ]
  },
  {
   "cell_type": "markdown",
   "id": "a51ef1dc-908d-4704-ae49-66e4b36a8f01",
   "metadata": {},
   "source": [
    "In the next section you will take a quick break from programming to look at and discuss how Morpheus is already being used in the industry.\n",
    "\n",
    "Please continue to the next notebook."
   ]
  }
 ],
 "metadata": {
  "kernelspec": {
   "display_name": "Python 3 (ipykernel)",
   "language": "python",
   "name": "python3"
  },
  "language_info": {
   "codemirror_mode": {
    "name": "ipython",
    "version": 3
   },
   "file_extension": ".py",
   "mimetype": "text/x-python",
   "name": "python",
   "nbconvert_exporter": "python",
   "pygments_lexer": "ipython3",
   "version": "3.8.13"
  }
 },
 "nbformat": 4,
 "nbformat_minor": 5
}
