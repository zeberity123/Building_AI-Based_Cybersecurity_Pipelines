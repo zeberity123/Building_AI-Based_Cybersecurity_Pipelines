{
 "cells": [
  {
   "cell_type": "markdown",
   "id": "eeb77376-6d9d-4972-9975-5100efdbc2db",
   "metadata": {},
   "source": [
    "![DLI Header](../images/DLI_Header.png)"
   ]
  },
  {
   "cell_type": "markdown",
   "id": "6d37f66d-e5e9-4520-ab95-69196a257ffa",
   "metadata": {},
   "source": [
    "# Morpheus Resources"
   ]
  },
  {
   "cell_type": "markdown",
   "id": "fb080c2c-aa82-4194-b5c6-e391070f46eb",
   "metadata": {},
   "source": [
    "The easiest way to get started with Morpheus on your own system is with [NGC](https://catalog.ngc.nvidia.com/?filters=&orderBy=scoreDESC&query=morpheus) where you'll find downloads for many Morpheus resources including:\n",
    "\n",
    "- Containers and Helm Charts for the Morpheus SDK CLI, Triton-backed Morpheus AI engine, Kafka message broker, MLFlow plugin, NetQ Endpoint Gateway, DOCA Telemetry Agent and more.\n",
    "- Extensive documentation for system setup and Morpheus use.\n",
    "- Several end-to-end example workflows using Morpheus for SID, Anomalous Behavior Profiling, Phishing Detection, Digital Fingerprinting and more.\n",
    "- Collections of notebooks and scripts for model fine-tuning, performance analysis, and more.\n",
    "\n",
    "For access to nightly builds, to dig deeper into the Morpheus source code, or to file issues, check out the [Morpheus repository on GitHub](https://github.com/nv-morpheus/Morpheus)."
   ]
  },
  {
   "cell_type": "markdown",
   "id": "ccf6ab01-22a3-4588-9b01-b8b992dfe7d7",
   "metadata": {},
   "source": [
    "### GTC On Demand"
   ]
  },
  {
   "cell_type": "markdown",
   "id": "ccad8b7f-c8ca-4b1c-8f7e-7cea37803803",
   "metadata": {},
   "source": [
    "Check out several presentations about Morpheus from NVIDIA, Booz Allen Hamilton, Redhat, and Splunk and more for free at [GTC On-Demand](https://www.nvidia.com/en-us/on-demand/search/?facet.mimetype[]=event%20session&layout=list&page=1&q=morpheus&sort=date)."
   ]
  },
  {
   "cell_type": "markdown",
   "id": "1c2b41dd-d22a-4914-9c47-b0d5b09b22bb",
   "metadata": {},
   "source": [
    "## Next"
   ]
  },
  {
   "cell_type": "markdown",
   "id": "08f27679-e278-4006-ad29-9b4c29b5f0a2",
   "metadata": {},
   "source": [
    "Please continue to the final notebook."
   ]
  }
 ],
 "metadata": {
  "kernelspec": {
   "display_name": "Python 3 (ipykernel)",
   "language": "python",
   "name": "python3"
  },
  "language_info": {
   "codemirror_mode": {
    "name": "ipython",
    "version": 3
   },
   "file_extension": ".py",
   "mimetype": "text/x-python",
   "name": "python",
   "nbconvert_exporter": "python",
   "pygments_lexer": "ipython3",
   "version": "3.8.13"
  }
 },
 "nbformat": 4,
 "nbformat_minor": 5
}
